{
 "cells": [
  {
   "cell_type": "code",
   "execution_count": 49,
   "id": "687517f4-606b-411a-9c5e-1160ebb8d383",
   "metadata": {},
   "outputs": [
    {
     "data": {
      "text/plain": [
       "[6, 4, 10, 8, 1]"
      ]
     },
     "execution_count": 49,
     "metadata": {},
     "output_type": "execute_result"
    }
   ],
   "source": [
    "l1 = []\n",
    "l1.append(6)\n",
    "l1.append(4)\n",
    "l1.append(10)\n",
    "l1.append(8)\n",
    "l1.append(1)\n",
    "l1"
   ]
  },
  {
   "cell_type": "code",
   "execution_count": 50,
   "id": "898f0510-ba17-497f-8269-8d21aa638382",
   "metadata": {},
   "outputs": [
    {
     "data": {
      "text/plain": [
       "[1, 4, 6, 8, 10]"
      ]
     },
     "execution_count": 50,
     "metadata": {},
     "output_type": "execute_result"
    }
   ],
   "source": [
    "l1.sort()  #sort method works for only similar datatypes\n",
    "l1"
   ]
  },
  {
   "cell_type": "code",
   "execution_count": 51,
   "id": "9ebbeaa2-b422-44bc-b54d-e8106f94ca7e",
   "metadata": {},
   "outputs": [
    {
     "data": {
      "text/plain": [
       "[10, 8, 6, 4, 1]"
      ]
     },
     "execution_count": 51,
     "metadata": {},
     "output_type": "execute_result"
    }
   ],
   "source": [
    "l1.sort(reverse=True) #descending order \n",
    "l1"
   ]
  },
  {
   "cell_type": "code",
   "execution_count": 52,
   "id": "2993b100-ef40-4b82-8c50-927dd4988478",
   "metadata": {
    "scrolled": true
   },
   "outputs": [
    {
     "data": {
      "text/plain": [
       "[1, 4, 6, 8, 10]"
      ]
     },
     "execution_count": 52,
     "metadata": {},
     "output_type": "execute_result"
    }
   ],
   "source": [
    "l1.sort(reverse=False) #ascending order\n",
    "l1"
   ]
  },
  {
   "cell_type": "code",
   "execution_count": 53,
   "id": "c43792a9-69ae-4bf4-a246-ab9f46dcf2ac",
   "metadata": {},
   "outputs": [
    {
     "data": {
      "text/plain": [
       "[1, 4, 6, 8, 10, 'nit']"
      ]
     },
     "execution_count": 53,
     "metadata": {},
     "output_type": "execute_result"
    }
   ],
   "source": [
    "l1.append('nit')\n",
    "l1"
   ]
  },
  {
   "cell_type": "code",
   "execution_count": 54,
   "id": "34228f99-2e18-4c5c-b030-faaed3acaf4e",
   "metadata": {},
   "outputs": [
    {
     "data": {
      "text/plain": [
       "8"
      ]
     },
     "execution_count": 54,
     "metadata": {},
     "output_type": "execute_result"
    }
   ],
   "source": [
    "l1[3]"
   ]
  },
  {
   "cell_type": "code",
   "execution_count": 55,
   "id": "5ea7bcf9-cfa6-4cfe-913f-a3f7c4360a98",
   "metadata": {},
   "outputs": [
    {
     "name": "stdout",
     "output_type": "stream",
     "text": [
      "n\n",
      "i\n",
      "t\n"
     ]
    }
   ],
   "source": [
    "print(l1[5][0])   #nested index only with the string\n",
    "print(l1[5][1])\n",
    "print(l1[5][2])"
   ]
  },
  {
   "cell_type": "code",
   "execution_count": 56,
   "id": "0a91359e-5cb8-4512-b1de-af86ed6236a6",
   "metadata": {},
   "outputs": [
    {
     "data": {
      "text/plain": [
       "[1, 4, 6, 8, 10, 'nit']"
      ]
     },
     "execution_count": 56,
     "metadata": {},
     "output_type": "execute_result"
    }
   ],
   "source": [
    "l1"
   ]
  },
  {
   "cell_type": "code",
   "execution_count": 57,
   "id": "24597744-2ead-455a-bc86-7e4ef97f9b32",
   "metadata": {},
   "outputs": [
    {
     "name": "stdout",
     "output_type": "stream",
     "text": [
      "1\n",
      "4\n",
      "6\n",
      "8\n",
      "10\n",
      "nit\n"
     ]
    }
   ],
   "source": [
    "for i in l1: #indentations--4   #class,function,loop,if--4 spaces\n",
    "    print(i)"
   ]
  },
  {
   "cell_type": "code",
   "execution_count": 58,
   "id": "923e0fc2-4ffd-474a-88ab-406298f5afaa",
   "metadata": {},
   "outputs": [
    {
     "name": "stdout",
     "output_type": "stream",
     "text": [
      "(0, 1)\n",
      "(1, 4)\n",
      "(2, 6)\n",
      "(3, 8)\n",
      "(4, 10)\n",
      "(5, 'nit')\n"
     ]
    }
   ],
   "source": [
    "for i in enumerate (l1):    \n",
    "    print(i)"
   ]
  },
  {
   "cell_type": "markdown",
   "id": "2fe73b88-25b2-4956-a92f-9123719a6609",
   "metadata": {},
   "source": [
    "#All/Any "
   ]
  },
  {
   "cell_type": "code",
   "execution_count": 59,
   "id": "b167658a-4d6d-469b-b420-031bc4476b26",
   "metadata": {},
   "outputs": [
    {
     "data": {
      "text/plain": [
       "[1, 4, 6, 8, 10, 'nit']"
      ]
     },
     "execution_count": 59,
     "metadata": {},
     "output_type": "execute_result"
    }
   ],
   "source": [
    "l1"
   ]
  },
  {
   "cell_type": "code",
   "execution_count": 60,
   "id": "ef76f0d8-8a6d-468c-a02b-8fd933d4fda1",
   "metadata": {},
   "outputs": [
    {
     "data": {
      "text/plain": [
       "True"
      ]
     },
     "execution_count": 60,
     "metadata": {},
     "output_type": "execute_result"
    }
   ],
   "source": [
    "all(l1)"
   ]
  },
  {
   "cell_type": "code",
   "execution_count": 61,
   "id": "45366fa4-b920-4598-b9ea-7a39fc313572",
   "metadata": {},
   "outputs": [
    {
     "data": {
      "text/plain": [
       "True"
      ]
     },
     "execution_count": 61,
     "metadata": {},
     "output_type": "execute_result"
    }
   ],
   "source": [
    "any(l1)"
   ]
  },
  {
   "cell_type": "code",
   "execution_count": 62,
   "id": "7ca1532c-a9f1-4f6c-bfb6-7fa7dfad3944",
   "metadata": {},
   "outputs": [
    {
     "data": {
      "text/plain": [
       "[1, 4, 6, 8, 10, 'nit', 0]"
      ]
     },
     "execution_count": 62,
     "metadata": {},
     "output_type": "execute_result"
    }
   ],
   "source": [
    "l1.append(0)\n",
    "l1"
   ]
  },
  {
   "cell_type": "code",
   "execution_count": 63,
   "id": "08730352-3283-487d-a740-790e9133e7b4",
   "metadata": {},
   "outputs": [
    {
     "data": {
      "text/plain": [
       "False"
      ]
     },
     "execution_count": 63,
     "metadata": {},
     "output_type": "execute_result"
    }
   ],
   "source": [
    "all(l1)"
   ]
  },
  {
   "cell_type": "code",
   "execution_count": 64,
   "id": "ea76be8f-724c-4f44-8f3d-c50e52eae975",
   "metadata": {},
   "outputs": [
    {
     "data": {
      "text/plain": [
       "True"
      ]
     },
     "execution_count": 64,
     "metadata": {},
     "output_type": "execute_result"
    }
   ],
   "source": [
    "any(l1)"
   ]
  },
  {
   "cell_type": "markdown",
   "id": "0b6c5b16-18f8-4017-b5a8-96d2f1f401c8",
   "metadata": {},
   "source": [
    "#TUPLE "
   ]
  },
  {
   "cell_type": "code",
   "execution_count": 65,
   "id": "ea5355cb-19c4-4f46-b7b1-62e8ff097abe",
   "metadata": {},
   "outputs": [
    {
     "data": {
      "text/plain": [
       "()"
      ]
     },
     "execution_count": 65,
     "metadata": {},
     "output_type": "execute_result"
    }
   ],
   "source": [
    "t = ()\n",
    "t"
   ]
  },
  {
   "cell_type": "code",
   "execution_count": 66,
   "id": "9be60a58-5541-42f7-b118-9c4e44fa31e5",
   "metadata": {},
   "outputs": [
    {
     "data": {
      "text/plain": [
       "tuple"
      ]
     },
     "execution_count": 66,
     "metadata": {},
     "output_type": "execute_result"
    }
   ],
   "source": [
    "type(t)"
   ]
  },
  {
   "cell_type": "code",
   "execution_count": 67,
   "id": "5beebf6f-eaa8-4814-9495-34a687e4fd6e",
   "metadata": {},
   "outputs": [
    {
     "data": {
      "text/plain": [
       "(10, 20, 30, 40, 10)"
      ]
     },
     "execution_count": 67,
     "metadata": {},
     "output_type": "execute_result"
    }
   ],
   "source": [
    "t1 = (10,20,30,40,10) #duplicates are allowed\n",
    "t1"
   ]
  },
  {
   "cell_type": "code",
   "execution_count": 68,
   "id": "9ef5010a-5fce-4d68-a7d5-e547f9965251",
   "metadata": {},
   "outputs": [
    {
     "data": {
      "text/plain": [
       "10"
      ]
     },
     "execution_count": 68,
     "metadata": {},
     "output_type": "execute_result"
    }
   ],
   "source": [
    "#tuple indexing\n",
    "t1[0]\n",
    "t1[-1]"
   ]
  },
  {
   "cell_type": "code",
   "execution_count": 69,
   "id": "f0e305be-049d-4d91-98f6-978f6507017c",
   "metadata": {},
   "outputs": [
    {
     "data": {
      "text/plain": [
       "(30, 40, 10)"
      ]
     },
     "execution_count": 69,
     "metadata": {},
     "output_type": "execute_result"
    }
   ],
   "source": [
    "#tuple slicing\n",
    "t1[2:5]"
   ]
  },
  {
   "cell_type": "code",
   "execution_count": 70,
   "id": "dbc6cc0a-c782-4011-92ef-0ccfb411e8c1",
   "metadata": {},
   "outputs": [
    {
     "data": {
      "text/plain": [
       "(10, 20, 30)"
      ]
     },
     "execution_count": 70,
     "metadata": {},
     "output_type": "execute_result"
    }
   ],
   "source": [
    "t1[:3]"
   ]
  },
  {
   "cell_type": "code",
   "execution_count": 71,
   "id": "6eca89cf-2fe2-4096-a222-52f8939cbfd7",
   "metadata": {},
   "outputs": [
    {
     "data": {
      "text/plain": [
       "(40, 10)"
      ]
     },
     "execution_count": 71,
     "metadata": {},
     "output_type": "execute_result"
    }
   ],
   "source": [
    "t1[-2:]"
   ]
  },
  {
   "cell_type": "code",
   "execution_count": 72,
   "id": "e4bf3516-99ff-4aa2-bd64-27ff82bdc1ad",
   "metadata": {},
   "outputs": [
    {
     "data": {
      "text/plain": [
       "(10, 20, 30, 40, 10)"
      ]
     },
     "execution_count": 72,
     "metadata": {},
     "output_type": "execute_result"
    }
   ],
   "source": [
    "t1[:]  #return whole tuple"
   ]
  },
  {
   "cell_type": "code",
   "execution_count": 73,
   "id": "03e753f7-f1d9-4606-8c48-fa70498389e9",
   "metadata": {},
   "outputs": [
    {
     "ename": "TypeError",
     "evalue": "'tuple' object doesn't support item deletion",
     "output_type": "error",
     "traceback": [
      "\u001b[1;31m---------------------------------------------------------------------------\u001b[0m",
      "\u001b[1;31mTypeError\u001b[0m                                 Traceback (most recent call last)",
      "Cell \u001b[1;32mIn[73], line 1\u001b[0m\n\u001b[1;32m----> 1\u001b[0m \u001b[38;5;28;01mdel\u001b[39;00m t1[\u001b[38;5;241m0\u001b[39m]\n",
      "\u001b[1;31mTypeError\u001b[0m: 'tuple' object doesn't support item deletion"
     ]
    }
   ],
   "source": [
    "del t1[0] #tuples are immutable which means we cannot delete tuple items"
   ]
  },
  {
   "cell_type": "code",
   "execution_count": 74,
   "id": "99dc318a-fd2b-4906-a54b-517adcafb6c4",
   "metadata": {},
   "outputs": [
    {
     "ename": "TypeError",
     "evalue": "'tuple' object does not support item assignment",
     "output_type": "error",
     "traceback": [
      "\u001b[1;31m---------------------------------------------------------------------------\u001b[0m",
      "\u001b[1;31mTypeError\u001b[0m                                 Traceback (most recent call last)",
      "Cell \u001b[1;32mIn[74], line 1\u001b[0m\n\u001b[1;32m----> 1\u001b[0m t1[\u001b[38;5;241m0\u001b[39m] \u001b[38;5;241m=\u001b[39m \u001b[38;5;241m25\u001b[39m\n",
      "\u001b[1;31mTypeError\u001b[0m: 'tuple' object does not support item assignment"
     ]
    }
   ],
   "source": [
    "t1[0] = 25 #as they are immutable we cannot change tuple items"
   ]
  },
  {
   "cell_type": "code",
   "execution_count": 75,
   "id": "98c04c0b-f819-40eb-90a1-e5097568948d",
   "metadata": {},
   "outputs": [],
   "source": [
    "#deleting entire tuple object is possible"
   ]
  },
  {
   "cell_type": "code",
   "execution_count": 76,
   "id": "be5638c3-f1d3-4fd9-a6bc-c6146058e462",
   "metadata": {},
   "outputs": [
    {
     "data": {
      "text/plain": [
       "3"
      ]
     },
     "execution_count": 76,
     "metadata": {},
     "output_type": "execute_result"
    }
   ],
   "source": [
    "t1.index(40)"
   ]
  },
  {
   "cell_type": "code",
   "execution_count": 77,
   "id": "ce80c9bb-481a-4180-98c6-7e91ab05fe39",
   "metadata": {},
   "outputs": [
    {
     "data": {
      "text/plain": [
       "2"
      ]
     },
     "execution_count": 77,
     "metadata": {},
     "output_type": "execute_result"
    }
   ],
   "source": [
    "t1.count(10)"
   ]
  },
  {
   "cell_type": "code",
   "execution_count": 78,
   "id": "5a6ee6fc-8781-4685-9607-a05ef8ab00d0",
   "metadata": {},
   "outputs": [
    {
     "data": {
      "text/plain": [
       "(10, 20, 30, 40, 10)"
      ]
     },
     "execution_count": 78,
     "metadata": {},
     "output_type": "execute_result"
    }
   ],
   "source": [
    "t1"
   ]
  },
  {
   "cell_type": "code",
   "execution_count": 79,
   "id": "e2ab0a19-32a5-40d9-b5e6-262d99dc930c",
   "metadata": {},
   "outputs": [
    {
     "data": {
      "text/plain": [
       "(10, 20, 30, 40, 10, 10, 20, 30, 40, 10)"
      ]
     },
     "execution_count": 79,
     "metadata": {},
     "output_type": "execute_result"
    }
   ],
   "source": [
    "t2 = t1 * 2 #doubles the tuple---real life application(bank)\n",
    "t2"
   ]
  },
  {
   "cell_type": "code",
   "execution_count": 80,
   "id": "ba93d054-72e5-4ea7-8b10-b4b4245eb935",
   "metadata": {},
   "outputs": [
    {
     "ename": "TypeError",
     "evalue": "'tuple' object does not support item assignment",
     "output_type": "error",
     "traceback": [
      "\u001b[1;31m---------------------------------------------------------------------------\u001b[0m",
      "\u001b[1;31mTypeError\u001b[0m                                 Traceback (most recent call last)",
      "Cell \u001b[1;32mIn[80], line 1\u001b[0m\n\u001b[1;32m----> 1\u001b[0m t1[\u001b[38;5;241m0\u001b[39m] \u001b[38;5;241m=\u001b[39m \u001b[38;5;241m100\u001b[39m\n",
      "\u001b[1;31mTypeError\u001b[0m: 'tuple' object does not support item assignment"
     ]
    }
   ],
   "source": [
    "t1[0] = 100  #tuple is immutable"
   ]
  },
  {
   "cell_type": "code",
   "execution_count": 81,
   "id": "99d34416-f701-492d-87f6-aa74dda2163b",
   "metadata": {},
   "outputs": [
    {
     "data": {
      "text/plain": [
       "([1, 2, 3], 31, 8.4)"
      ]
     },
     "execution_count": 81,
     "metadata": {},
     "output_type": "execute_result"
    }
   ],
   "source": [
    "t2 = ([1,2,3],31,8.4)\n",
    "t2"
   ]
  },
  {
   "cell_type": "code",
   "execution_count": 82,
   "id": "34bda873-2eff-4a03-adbf-322b3b35f4d3",
   "metadata": {},
   "outputs": [
    {
     "data": {
      "text/plain": [
       "((1, 2, 3), 31, 1)"
      ]
     },
     "execution_count": 82,
     "metadata": {},
     "output_type": "execute_result"
    }
   ],
   "source": [
    "t2 = ((1,2,3),31,1)\n",
    "t2"
   ]
  },
  {
   "cell_type": "code",
   "execution_count": 83,
   "id": "a1d96fd8-56ab-49c7-9a66-9127764f8c75",
   "metadata": {},
   "outputs": [
    {
     "data": {
      "text/plain": [
       "3"
      ]
     },
     "execution_count": 83,
     "metadata": {},
     "output_type": "execute_result"
    }
   ],
   "source": [
    "len(t2)"
   ]
  },
  {
   "cell_type": "code",
   "execution_count": 84,
   "id": "924c2099-cf9d-46ab-aae3-19fec12f50a6",
   "metadata": {},
   "outputs": [
    {
     "name": "stdout",
     "output_type": "stream",
     "text": [
      "(1, 2, 3)\n",
      "31\n",
      "1\n"
     ]
    }
   ],
   "source": [
    "#loop through a tuple\n",
    "for i in t2:\n",
    "    print(i)"
   ]
  },
  {
   "cell_type": "code",
   "execution_count": 85,
   "id": "71c348fb-b0a3-47c0-a1bd-4337e31c04a1",
   "metadata": {},
   "outputs": [
    {
     "name": "stdout",
     "output_type": "stream",
     "text": [
      "(0, (1, 2, 3))\n",
      "(1, 31)\n",
      "(2, 1)\n"
     ]
    }
   ],
   "source": [
    "for i in enumerate(t2):\n",
    "    print(i)"
   ]
  },
  {
   "cell_type": "code",
   "execution_count": 86,
   "id": "336311df-dded-4916-a442-8746e9e1afb0",
   "metadata": {},
   "outputs": [
    {
     "data": {
      "text/plain": [
       "('one', 'two', 'three', 'four', 'five')"
      ]
     },
     "execution_count": 86,
     "metadata": {},
     "output_type": "execute_result"
    }
   ],
   "source": [
    "#Tuple Membership\n",
    "mytuple = ()\n",
    "mytuple = ('one','two','three','four','five')\n",
    "mytuple"
   ]
  },
  {
   "cell_type": "code",
   "execution_count": 87,
   "id": "ce321e77-064e-4051-869c-fff35b9ee935",
   "metadata": {},
   "outputs": [
    {
     "data": {
      "text/plain": [
       "True"
      ]
     },
     "execution_count": 87,
     "metadata": {},
     "output_type": "execute_result"
    }
   ],
   "source": [
    "'one' in mytuple"
   ]
  },
  {
   "cell_type": "code",
   "execution_count": 88,
   "id": "1e235937-e158-4d59-9410-ed6de1f78668",
   "metadata": {},
   "outputs": [
    {
     "name": "stdout",
     "output_type": "stream",
     "text": [
      "YES\n"
     ]
    }
   ],
   "source": [
    "if 'three' in mytuple:\n",
    "    print('YES')\n",
    "else:\n",
    "    print('NO')"
   ]
  },
  {
   "cell_type": "code",
   "execution_count": 89,
   "id": "64035f89-c370-4856-84d4-061a2d7a58c4",
   "metadata": {},
   "outputs": [
    {
     "data": {
      "text/plain": [
       "0"
      ]
     },
     "execution_count": 89,
     "metadata": {},
     "output_type": "execute_result"
    }
   ],
   "source": [
    "#index position\n",
    "mytuple.index('one')"
   ]
  },
  {
   "cell_type": "code",
   "execution_count": 90,
   "id": "570f1e33-1489-45f8-b54f-6979001a87b2",
   "metadata": {},
   "outputs": [
    {
     "data": {
      "text/plain": [
       "[1, 2, 3, 4, 6, 7, 8, 9, 10]"
      ]
     },
     "execution_count": 90,
     "metadata": {},
     "output_type": "execute_result"
    }
   ],
   "source": [
    "#sorting\n",
    "mytuple1 = (4,9,6,7,2,10,8,3,1)\n",
    "sorted(mytuple1) #returns new sorted list while maintaining the original tuple"
   ]
  },
  {
   "cell_type": "code",
   "execution_count": 91,
   "id": "5606239c-e866-4eb3-a512-a91c62c880c2",
   "metadata": {},
   "outputs": [
    {
     "data": {
      "text/plain": [
       "[10, 9, 8, 7, 6, 4, 3, 2, 1]"
      ]
     },
     "execution_count": 91,
     "metadata": {},
     "output_type": "execute_result"
    }
   ],
   "source": [
    "sorted(mytuple1,reverse=True) #sorts in descending order"
   ]
  },
  {
   "cell_type": "code",
   "execution_count": null,
   "id": "ab75b5b4-a1f6-4e3a-bb31-e884ce929bef",
   "metadata": {},
   "outputs": [],
   "source": []
  }
 ],
 "metadata": {
  "kernelspec": {
   "display_name": "Python [conda env:base] *",
   "language": "python",
   "name": "conda-base-py"
  },
  "language_info": {
   "codemirror_mode": {
    "name": "ipython",
    "version": 3
   },
   "file_extension": ".py",
   "mimetype": "text/x-python",
   "name": "python",
   "nbconvert_exporter": "python",
   "pygments_lexer": "ipython3",
   "version": "3.12.7"
  }
 },
 "nbformat": 4,
 "nbformat_minor": 5
}
