{
 "cells": [
  {
   "cell_type": "code",
   "execution_count": 1,
   "id": "52992617-c4ce-4ad1-b923-062ad9f67788",
   "metadata": {},
   "outputs": [
    {
     "name": "stdout",
     "output_type": "stream",
     "text": [
      "5\n",
      "1\n",
      "6\n",
      "1.5\n",
      "9\n",
      "1\n",
      "1\n"
     ]
    }
   ],
   "source": [
    "print(3 + 2) \n",
    "print(3 - 2)\n",
    "print(3 * 2)\n",
    "print(3 / 2)\n",
    "print(3 ** 2)\n",
    "print(3 % 2)\n",
    "print(3 // 2)"
   ]
  },
  {
   "cell_type": "markdown",
   "id": "32bbf2a6-0cac-4af8-a1b5-1143b927a4cb",
   "metadata": {},
   "source": [
    "#checking datatypes"
   ]
  },
  {
   "cell_type": "code",
   "execution_count": 2,
   "id": "93394e35-d399-451f-aa88-ca995ef862b4",
   "metadata": {},
   "outputs": [
    {
     "name": "stdout",
     "output_type": "stream",
     "text": [
      "<class 'int'>\n",
      "<class 'float'>\n",
      "<class 'complex'>\n",
      "<class 'str'>\n",
      "<class 'list'>\n",
      "<class 'dict'>\n",
      "<class 'set'>\n",
      "<class 'tuple'>\n",
      "<class 'bool'>\n",
      "<class 'bool'>\n"
     ]
    }
   ],
   "source": [
    "print(type(10))                  # Int\n",
    "print(type(3.14))                # Float\n",
    "print(type(1 + 3j))              # Complex\n",
    "print(type('sankeerthana'))   # String\n",
    "print(type([1, 2, 3]))           # List\n",
    "print(type({'name':'keerthana'})) # Dictionary\n",
    "print(type({9.8, 3.14, 2.7}))    # Set\n",
    "print(type((9.8, 3.14, 2.7)))    # Tuple\n",
    "print(type(3 == 3))              # Bool\n",
    "print(type(3 >= 3))              # Bool\n"
   ]
  },
  {
   "cell_type": "markdown",
   "id": "211dacac-94f4-4e17-a459-dad75177f17f",
   "metadata": {},
   "source": [
    "#variables in python"
   ]
  },
  {
   "cell_type": "code",
   "execution_count": 3,
   "id": "63bccd51-785f-4599-9602-318c3936fd15",
   "metadata": {},
   "outputs": [],
   "source": [
    "name = 'Sankeerthana'\n",
    "country = 'India'\n",
    "state = 'Telangana'\n",
    "city = 'Hyderabad'\n",
    "age = 20\n",
    "education = 'undergraduate'\n",
    "course = 'cse'\n",
    "skills = ['java','python']"
   ]
  },
  {
   "cell_type": "code",
   "execution_count": 4,
   "id": "5ec15084-8ab6-4329-9fa9-29b09a16a699",
   "metadata": {},
   "outputs": [
    {
     "name": "stdout",
     "output_type": "stream",
     "text": [
      "name:  Sankeerthana\n",
      "country:  India\n",
      "state:  Telangana\n",
      "city:  Hyderabad\n",
      "age:  20\n",
      "education:  undergraduate\n",
      "course:  cse\n",
      "skills:  ['java', 'python']\n"
     ]
    }
   ],
   "source": [
    "#printing the values stored in the variables\n",
    "print('name: ',name)\n",
    "print('country: ',country)\n",
    "print('state: ',state)\n",
    "print('city: ',city)\n",
    "print('age: ',age)\n",
    "print('education: ',education)\n",
    "print('course: ',course)\n",
    "print('skills: ',skills)"
   ]
  },
  {
   "cell_type": "code",
   "execution_count": 9,
   "id": "0aeecc13-712b-4d1b-8647-47547a8cfd05",
   "metadata": {},
   "outputs": [
    {
     "name": "stdout",
     "output_type": "stream",
     "text": [
      "sankeerthana\n",
      "20\n",
      "7842645692\n"
     ]
    }
   ],
   "source": [
    "#declaring multiple variables in one line\n",
    "name,age,phone_no = 'sankeerthana',20,7842645692\n",
    "print(name)\n",
    "print(age)\n",
    "print(phone_no)"
   ]
  },
  {
   "cell_type": "markdown",
   "id": "2dd080c0-f827-497b-966a-d63976e7004e",
   "metadata": {},
   "source": [
    "#Arithmetic operators "
   ]
  },
  {
   "cell_type": "code",
   "execution_count": 10,
   "id": "b6970b8b-6f07-4753-abd6-9fe280590752",
   "metadata": {},
   "outputs": [
    {
     "name": "stdout",
     "output_type": "stream",
     "text": [
      "Addition:  3\n",
      "Subtraction:  1\n",
      "Multiplication:  6\n",
      "Division:  2.0\n",
      "Division:  3.0\n",
      "Division:  3.5\n",
      "Division without the remainder:  3\n",
      "Modulus:  1\n",
      "Division without the remainder:  2\n",
      "Exponential:  9\n"
     ]
    }
   ],
   "source": [
    "print('Addition: ', 1 + 2)\n",
    "print('Subtraction: ', 2 - 1)\n",
    "print('Multiplication: ', 2 * 3)\n",
    "print ('Division: ', 4 / 2)                         # Division in python gives floating number\n",
    "print('Division: ', 6 / 2)\n",
    "print('Division: ', 7 / 2)                           #gives the quotient\n",
    "print('Division without the remainder: ', 7 // 2)   # gives without the floating number(roundoff value)\n",
    "print('Modulus: ', 3 % 2)                           # Gives the remainder\n",
    "print ('Division without the remainder: ', 7 // 3)\n",
    "print('Exponential: ', 3 ** 2)                     # it means 3 * 3\n"
   ]
  },
  {
   "cell_type": "code",
   "execution_count": 11,
   "id": "97069617-88e1-4840-b749-7b8dd1902d79",
   "metadata": {},
   "outputs": [
    {
     "name": "stdout",
     "output_type": "stream",
     "text": [
      "pi:  3.14\n"
     ]
    }
   ],
   "source": [
    "#floating numbers\n",
    "print('pi: ',3.14)"
   ]
  },
  {
   "cell_type": "code",
   "execution_count": 15,
   "id": "04412b60-a0af-4c2f-afd2-03ee02ca090e",
   "metadata": {},
   "outputs": [
    {
     "name": "stdout",
     "output_type": "stream",
     "text": [
      "(1+2j)\n",
      "(3+5j)\n",
      "(-4+7j)\n"
     ]
    }
   ],
   "source": [
    "#complex numbers\n",
    "print(1+2j)\n",
    "print((1+2j)+(2+3j))\n",
    "print((1+2j)*(2+3j))   #Multiplication: (a + bi)(c + di) = (ac − bd) + (bc + ad)i"
   ]
  },
  {
   "cell_type": "code",
   "execution_count": 16,
   "id": "5a3d399c-1ef7-4e47-86e2-6a5aa359cb5a",
   "metadata": {},
   "outputs": [
    {
     "name": "stdout",
     "output_type": "stream",
     "text": [
      "a + b =  8\n",
      "a - b =  2\n",
      "a * b =  15\n",
      "a / b =  1.6666666666666667\n",
      "a % b =  2\n",
      "a // b =  1\n",
      "a ** b =  125\n"
     ]
    }
   ],
   "source": [
    "a = 5\n",
    "b = 3\n",
    "total = a + b\n",
    "diff = a - b\n",
    "product = a * b\n",
    "division = a / b\n",
    "remainder = a % b\n",
    "floor_division = a // b\n",
    "exponential = a ** b\n",
    "print('a + b = ', total)\n",
    "print('a - b = ', diff)\n",
    "print('a * b = ', product)\n",
    "print('a / b = ', division)\n",
    "print('a % b = ', remainder)\n",
    "print('a // b = ', floor_division)\n",
    "print('a ** b = ', exponential)\n"
   ]
  },
  {
   "cell_type": "code",
   "execution_count": 17,
   "id": "2ac83863-8456-4691-b545-1a8f2c22ff96",
   "metadata": {},
   "outputs": [
    {
     "name": "stdout",
     "output_type": "stream",
     "text": [
      "Area of a circle: 314.0\n"
     ]
    }
   ],
   "source": [
    "# Calculating area of a circle\n",
    "radius = 10                                 # radius of a circle\n",
    "area_of_circle = 3.14 * radius ** 2         # two * sign means exponent or power\n",
    "print('Area of a circle:', area_of_circle)"
   ]
  },
  {
   "cell_type": "code",
   "execution_count": 18,
   "id": "e8bec2c9-6fb6-4fa1-94b7-c2eafd22abd1",
   "metadata": {},
   "outputs": [
    {
     "name": "stdout",
     "output_type": "stream",
     "text": [
      "Area of rectangle: 200\n"
     ]
    }
   ],
   "source": [
    "# Calculating area of a rectangle\n",
    "length = 10\n",
    "width = 20\n",
    "area_of_rectangle = length * width\n",
    "print('Area of rectangle:', area_of_rectangle)"
   ]
  },
  {
   "cell_type": "code",
   "execution_count": 21,
   "id": "a1a3d349-e939-4b69-b021-c9baf6dc1a8d",
   "metadata": {},
   "outputs": [
    {
     "name": "stdout",
     "output_type": "stream",
     "text": [
      "735.75 N\n"
     ]
    }
   ],
   "source": [
    "# Calculating a weight of an object\n",
    "mass = 75\n",
    "gravity = 9.81\n",
    "weight = mass * gravity\n",
    "print(weight,'N')"
   ]
  },
  {
   "cell_type": "code",
   "execution_count": 22,
   "id": "5e026471-fd89-46b3-84c7-65f9c65171bf",
   "metadata": {},
   "outputs": [
    {
     "name": "stdout",
     "output_type": "stream",
     "text": [
      "True == True:  True\n",
      "True == False:  False\n",
      "False == False: True\n",
      "True and True:  True\n",
      "True or False: True\n"
     ]
    }
   ],
   "source": [
    "# Boolean comparison\n",
    "print('True == True: ', True == True)\n",
    "print('True == False: ', True == False)\n",
    "print('False == False:', False == False)\n",
    "print('True and True: ', True and True)\n",
    "print('True or False:', True or False) "
   ]
  },
  {
   "cell_type": "code",
   "execution_count": 23,
   "id": "f24b0f3b-ddee-46f6-96be-a3d0204243b8",
   "metadata": {},
   "outputs": [
    {
     "name": "stdout",
     "output_type": "stream",
     "text": [
      "True\n",
      "False\n",
      "True\n",
      "True\n",
      "False\n",
      "True\n",
      "True\n",
      "False\n"
     ]
    }
   ],
   "source": [
    "#and,or,not\n",
    "print(3>2 and 4>3)\n",
    "print(3>2 and 4>5)\n",
    "print(3>2 or 5>2)\n",
    "print(6>10 or 5>3)  #if first condition fails checks next\n",
    "print(not True)\n",
    "print(not False)\n",
    "print(not not True)\n",
    "print(not not False)"
   ]
  },
  {
   "cell_type": "markdown",
   "id": "0addc4e1-d99c-402f-bf80-acad8b6f1393",
   "metadata": {},
   "source": [
    "#String"
   ]
  },
  {
   "cell_type": "code",
   "execution_count": 24,
   "id": "ce1e5608-44e7-421e-b5ce-87a24c445b44",
   "metadata": {},
   "outputs": [
    {
     "name": "stdout",
     "output_type": "stream",
     "text": [
      "sankeerthana\n",
      "computer science and engineering\n"
     ]
    }
   ],
   "source": [
    "#single line comment---('text')and(\"text\")\n",
    "name = 'sankeerthana'\n",
    "course = \"computer science and engineering\"\n",
    "print(name)\n",
    "print(course)"
   ]
  },
  {
   "cell_type": "code",
   "execution_count": 25,
   "id": "b20ed600-a41a-4ec8-9e6a-54d22996273a",
   "metadata": {},
   "outputs": [
    {
     "name": "stdout",
     "output_type": "stream",
     "text": [
      "I am a teacher and enjoy teaching.\n",
      "I didn't find anything as rewarding as empowering people.\n",
      "That is why I created 30 days of python.\n",
      "I am a teacher and enjoy teaching.\n",
      "I didn't find anything as rewarding as empowering people.\n",
      "That is why I created 30 days of python.\n"
     ]
    }
   ],
   "source": [
    "#multi line comment---('''text''')or(\"\"\"text\"\"\")\n",
    "multiline_string = '''I am a teacher and enjoy teaching.\n",
    "I didn't find anything as rewarding as empowering people.\n",
    "That is why I created 30 days of python.'''\n",
    "print(multiline_string)\n",
    "# Another way of doing the same thing\n",
    "multiline_string = \"\"\"I am a teacher and enjoy teaching.\n",
    "I didn't find anything as rewarding as empowering people.\n",
    "That is why I created 30 days of python.\"\"\"\n",
    "print(multiline_string)"
   ]
  },
  {
   "cell_type": "code",
   "execution_count": 27,
   "id": "6cd3e2a0-5e4c-44d3-962b-20d34702d846",
   "metadata": {},
   "outputs": [
    {
     "name": "stdout",
     "output_type": "stream",
     "text": [
      "donthoju sai sankeerthana\n"
     ]
    }
   ],
   "source": [
    "#string concatenation\n",
    "first_name = 'donthoju '\n",
    "last_name = 'sai sankeerthana'\n",
    "full_name = first_name + last_name\n",
    "print(full_name)"
   ]
  },
  {
   "cell_type": "code",
   "execution_count": 28,
   "id": "493577f3-f3ea-448e-92a8-e5ea49dc75e3",
   "metadata": {},
   "outputs": [
    {
     "name": "stdout",
     "output_type": "stream",
     "text": [
      "25\n"
     ]
    }
   ],
   "source": [
    "#len() function\n",
    "print(len(full_name))"
   ]
  },
  {
   "cell_type": "code",
   "execution_count": 29,
   "id": "6cb10b66-96ad-4067-bf21-e5813e9a7dd0",
   "metadata": {},
   "outputs": [
    {
     "name": "stdout",
     "output_type": "stream",
     "text": [
      "P\n",
      "y\n",
      "t\n",
      "h\n",
      "o\n",
      "n\n"
     ]
    }
   ],
   "source": [
    "#### Unpacking characters \n",
    "language = 'Python'\n",
    "a,b,c,d,e,f = language # unpacking sequence characters into variables\n",
    "print(a) # P\n",
    "print(b) # y\n",
    "print(c) # t \n",
    "print(d) # h\n",
    "print(e) # o\n",
    "print(f) # n"
   ]
  },
  {
   "cell_type": "code",
   "execution_count": 31,
   "id": "518808fc-5da1-4117-b2f0-c394e95f5892",
   "metadata": {},
   "outputs": [
    {
     "name": "stdout",
     "output_type": "stream",
     "text": [
      "n\n",
      "n\n",
      "o\n"
     ]
    }
   ],
   "source": [
    "# Accessing characters in strings by index\n",
    "language = 'Python'\n",
    "print(language[5])\n",
    "# If we want to start from right end we can use negative indexing. -1 is the last index\n",
    "language = 'Python'\n",
    "last_letter = language[-1]\n",
    "print(last_letter) # n\n",
    "second_last = language[-2]\n",
    "print(second_last) # o\n"
   ]
  },
  {
   "cell_type": "code",
   "execution_count": 32,
   "id": "84217bd6-2332-45e5-8149-6a00fea9cdec",
   "metadata": {},
   "outputs": [
    {
     "name": "stdout",
     "output_type": "stream",
     "text": [
      "hon\n",
      "hon\n",
      "hon\n"
     ]
    }
   ],
   "source": [
    "# Slicing\n",
    "language = 'Python'\n",
    "first_three = language[0:3] # starts at zero index and up to 3 but not include 3\n",
    "last_three = language[3:6]\n",
    "print(last_three) # hon\n",
    "# Another way\n",
    "last_three = language[-3:]\n",
    "print(last_three)   # hon\n",
    "last_three = language[3:]\n",
    "print(last_three)   # hon"
   ]
  },
  {
   "cell_type": "code",
   "execution_count": 33,
   "id": "7a707d22-18df-4cf9-adca-6cb7d68eea81",
   "metadata": {},
   "outputs": [
    {
     "name": "stdout",
     "output_type": "stream",
     "text": [
      "Pto\n"
     ]
    }
   ],
   "source": [
    "# Skipping character while splitting Python strings\n",
    "language = 'Python'\n",
    "pto = language[0:6:2] # \n",
    "print(pto) # pto"
   ]
  },
  {
   "cell_type": "code",
   "execution_count": 36,
   "id": "463dc408-a57d-4fed-b0e0-c71792d9280f",
   "metadata": {},
   "outputs": [
    {
     "name": "stdout",
     "output_type": "stream",
     "text": [
      "I hope every one enjoying the python challenge.\n",
      "Do you ?\n",
      "Days\tTopics\tExercises\n",
      "Day 1\t3\t5\n",
      "Day 2\t3\t5\n",
      "Day 3\t3\t5\n",
      "Day 4\t3\t5\n",
      "This is a back slash  symbol (\\)\n",
      "In every programming language it starts with \"Hello, World!\"\n"
     ]
    }
   ],
   "source": [
    "# Escape sequence\n",
    "print('I hope every one enjoying the python challenge.\\nDo you ?') # line break\n",
    "print('Days\\tTopics\\tExercises')\n",
    "print('Day 1\\t3\\t5')\n",
    "print('Day 2\\t3\\t5')\n",
    "print('Day 3\\t3\\t5')\n",
    "print('Day 4\\t3\\t5')\n",
    "print('This is a back slash  symbol (\\\\)') # To write a back slash\n",
    "print('In every programming language it starts with \\\"Hello, World!\\\"')\n"
   ]
  },
  {
   "cell_type": "markdown",
   "id": "b9cfd8ce-896f-416b-9790-ee7751276d28",
   "metadata": {},
   "source": [
    "#String Methods"
   ]
  },
  {
   "cell_type": "code",
   "execution_count": 37,
   "id": "96db7f93-878c-4aff-a7a8-db300905ea72",
   "metadata": {},
   "outputs": [
    {
     "name": "stdout",
     "output_type": "stream",
     "text": [
      "Thirty days of python\n"
     ]
    }
   ],
   "source": [
    "#1. capitalize(): Converts the first character of the string to Capital Letter\n",
    "challenge = 'thirty days of python'\n",
    "print(challenge.capitalize())"
   ]
  },
  {
   "cell_type": "code",
   "execution_count": 38,
   "id": "a6490f8e-2e54-411e-84ac-a45399f3748d",
   "metadata": {},
   "outputs": [
    {
     "name": "stdout",
     "output_type": "stream",
     "text": [
      "3\n",
      "1\n",
      "2\n"
     ]
    }
   ],
   "source": [
    "#2. count(): returns occurrences of substring in string, count(substring, start=.., end=..)\n",
    "challenge = 'thirty days of python'\n",
    "print(challenge.count('y')) # 3\n",
    "print(challenge.count('y', 7, 14)) # 1\n",
    "print(challenge.count('th')) # 2`"
   ]
  },
  {
   "cell_type": "code",
   "execution_count": 39,
   "id": "299566ae-495c-476d-bd4d-ccc51f46b23b",
   "metadata": {},
   "outputs": [
    {
     "name": "stdout",
     "output_type": "stream",
     "text": [
      "True\n",
      "False\n"
     ]
    }
   ],
   "source": [
    "#3. endswith(): Checks if a string ends with a specified ending\n",
    "challenge = 'thirty days of python'\n",
    "print(challenge.endswith('on'))   # True\n",
    "print(challenge.endswith('tion')) # False"
   ]
  },
  {
   "cell_type": "code",
   "execution_count": 40,
   "id": "8fa7e387-6ad8-4db8-a316-dff969da3853",
   "metadata": {},
   "outputs": [
    {
     "name": "stdout",
     "output_type": "stream",
     "text": [
      "5\n",
      "0\n"
     ]
    }
   ],
   "source": [
    "#4. # find(): Returns the index of first occurrence of substring\n",
    "challenge = 'thirty days of python'\n",
    "print(challenge.find('y'))  # 5\n",
    "print(challenge.find('th')) # 0"
   ]
  },
  {
   "cell_type": "code",
   "execution_count": 41,
   "id": "45807727-2f95-4add-b98f-73cafa1a8b26",
   "metadata": {},
   "outputs": [
    {
     "name": "stdout",
     "output_type": "stream",
     "text": [
      "I am sankeerthana.My course is FSDS.I live in hyd.\n"
     ]
    }
   ],
   "source": [
    "#5. format()-->formats string into nicer output    \n",
    "name = 'sankeerthana'\n",
    "course = 'FSDS'\n",
    "place = 'hyd'\n",
    "print('I am {}.My course is {}.I live in {}.'.format(name,course,place))"
   ]
  },
  {
   "cell_type": "code",
   "execution_count": 42,
   "id": "618d1e4b-721e-4517-ba6f-5db466bba277",
   "metadata": {},
   "outputs": [
    {
     "name": "stdout",
     "output_type": "stream",
     "text": [
      "5\n",
      "0\n"
     ]
    }
   ],
   "source": [
    "#6. # index(): Returns the index of substring\n",
    "challenge = 'thirty days of python'\n",
    "print(challenge.find('y'))  # 5\n",
    "print(challenge.find('th')) # 0"
   ]
  },
  {
   "cell_type": "code",
   "execution_count": 43,
   "id": "dfea7aae-a6f9-4289-845b-550837e47212",
   "metadata": {},
   "outputs": [
    {
     "name": "stdout",
     "output_type": "stream",
     "text": [
      "True\n",
      "True\n",
      "False\n",
      "False\n"
     ]
    }
   ],
   "source": [
    "#7. # isalnum(): Checks alphanumeric character\n",
    "\n",
    "challenge = 'ThirtyDaysPython'\n",
    "print(challenge.isalnum()) # True\n",
    "\n",
    "challenge = '30DaysPython'\n",
    "print(challenge.isalnum()) # True\n",
    "\n",
    "challenge = 'thirty days of python'\n",
    "print(challenge.isalnum()) # False\n",
    "\n",
    "challenge = 'thirty days of python 2019'\n",
    "print(challenge.isalnum()) # False"
   ]
  },
  {
   "cell_type": "code",
   "execution_count": 44,
   "id": "1529e7cb-894c-45bb-a91d-82dde492663e",
   "metadata": {},
   "outputs": [
    {
     "name": "stdout",
     "output_type": "stream",
     "text": [
      "False\n",
      "False\n"
     ]
    }
   ],
   "source": [
    "#8. isalpha(): Checks if all characters are alphabets\n",
    "\n",
    "challenge = 'thirty days of python'\n",
    "print(challenge.isalpha()) # True\n",
    "num = '123'\n",
    "print(num.isalpha())      # False"
   ]
  },
  {
   "cell_type": "code",
   "execution_count": 46,
   "id": "5fe008b6-c591-4067-8150-ef102f7a3687",
   "metadata": {},
   "outputs": [
    {
     "name": "stdout",
     "output_type": "stream",
     "text": [
      "True\n",
      "False\n"
     ]
    }
   ],
   "source": [
    "#9. isdecimal(): Checks Decimal Characters(only digits=True,float values=False)\n",
    "num = '10'\n",
    "print(num.isdecimal()) # True\n",
    "num = '10.5'\n",
    "print(num.isdecimal()) # False\n"
   ]
  },
  {
   "cell_type": "code",
   "execution_count": 49,
   "id": "ded9edd3-83aa-44d2-83e8-10c3eb04848a",
   "metadata": {},
   "outputs": [
    {
     "name": "stdout",
     "output_type": "stream",
     "text": [
      "False\n",
      "True\n"
     ]
    }
   ],
   "source": [
    "#10. isdigit(): Checks Digit Characters\n",
    "challenge = 'Thirty'\n",
    "print(challenge.isdigit()) # False\n",
    "challenge = '30'\n",
    "print(challenge.isdigit())   # True"
   ]
  },
  {
   "cell_type": "code",
   "execution_count": 50,
   "id": "69bd333a-031c-45a9-97a7-6aa2728130ef",
   "metadata": {},
   "outputs": [
    {
     "name": "stdout",
     "output_type": "stream",
     "text": [
      "True\n",
      "False\n"
     ]
    }
   ],
   "source": [
    "#11. startswith(): Checks if String Starts with the Specified String\n",
    "\n",
    "challenge = 'thirty days of python'\n",
    "print(challenge.startswith('thirty')) # True\n",
    "challenge = '30 days of python'\n",
    "print(challenge.startswith('thirty')) # False"
   ]
  },
  {
   "cell_type": "code",
   "execution_count": 51,
   "id": "881a01dc-c208-4193-8621-c3b6ef1e53b8",
   "metadata": {},
   "outputs": [
    {
     "name": "stdout",
     "output_type": "stream",
     "text": [
      "THIRTY DAYS OF PYTHON\n",
      "tHIRTY dAYS oF pYTHON\n"
     ]
    }
   ],
   "source": [
    "#12. swapcase():swaps the uppercase characters to lowercase and viceversa\n",
    "challenge = 'thirty days of python'\n",
    "print(challenge.swapcase())   # THIRTY DAYS OF PYTHON\n",
    "challenge = 'Thirty Days Of Python'\n",
    "print(challenge.swapcase())  # tHIRTY dAYS oF pYTHON\n"
   ]
  },
  {
   "cell_type": "code",
   "execution_count": 52,
   "id": "e55a2b65-d4c0-4d8a-a9de-ad5a5d287fb6",
   "metadata": {},
   "outputs": [
    {
     "name": "stdout",
     "output_type": "stream",
     "text": [
      "Thirty Days Of Python\n"
     ]
    }
   ],
   "source": [
    "#13. # title(): Returns a Title Cased String(every first character of string is swaped to uppercase)\n",
    "challenge = 'thirty days of python'\n",
    "print(challenge.title()) # Thirty Days Of Python\n"
   ]
  },
  {
   "cell_type": "code",
   "execution_count": 53,
   "id": "86b6b389-0c68-47fa-a512-d8a4db659000",
   "metadata": {},
   "outputs": [
    {
     "name": "stdout",
     "output_type": "stream",
     "text": [
      "['thirty', 'days', 'of', 'python']\n"
     ]
    }
   ],
   "source": [
    "#14. split():Splits String from Left\n",
    "\n",
    "challenge = 'thirty days of python'\n",
    "print(challenge.split())"
   ]
  },
  {
   "cell_type": "code",
   "execution_count": 54,
   "id": "9a9e0bf0-bda6-4a9c-8782-fb7d3bedacf9",
   "metadata": {},
   "outputs": [
    {
     "name": "stdout",
     "output_type": "stream",
     "text": [
      "thirty days of coding\n"
     ]
    }
   ],
   "source": [
    "#15. replace(): Replaces substring inside\n",
    "\n",
    "challenge = 'thirty days of python'\n",
    "print(challenge.replace('python', 'coding')) # 'thirty days of coding'\n"
   ]
  },
  {
   "cell_type": "code",
   "execution_count": 55,
   "id": "e62bfd0f-139a-4af5-a272-9319afecafbf",
   "metadata": {},
   "outputs": [
    {
     "name": "stdout",
     "output_type": "stream",
     "text": [
      "False\n",
      "True\n"
     ]
    }
   ],
   "source": [
    "#16. # isidentifier():Checks for valid identifier means it check if a string is a valid variable name\n",
    "\n",
    "challenge = '30DaysOfPython'\n",
    "print(challenge.isidentifier()) # False, because it starts with a number\n",
    "challenge = 'thirty_days_of_python'\n",
    "print(challenge.isidentifier()) # True"
   ]
  },
  {
   "cell_type": "code",
   "execution_count": 56,
   "id": "385c9fb0-e463-445e-943f-c80c40558bc8",
   "metadata": {},
   "outputs": [
    {
     "name": "stdout",
     "output_type": "stream",
     "text": [
      "True\n",
      "False\n"
     ]
    }
   ],
   "source": [
    "#17.  islower():Checks if all alphabets in a string are lowercase\n",
    "\n",
    "challenge = 'thirty days of python'\n",
    "print(challenge.islower()) # True\n",
    "challenge = 'Thirty days of python'\n",
    "print(challenge.islower()) # False\n"
   ]
  },
  {
   "cell_type": "code",
   "execution_count": 57,
   "id": "8ddddda6-8900-4dcc-937b-cf3edc5a4d18",
   "metadata": {},
   "outputs": [
    {
     "name": "stdout",
     "output_type": "stream",
     "text": [
      "False\n",
      "True\n"
     ]
    }
   ],
   "source": [
    "#18. # isupper(): returns if all characters are uppercase characters\n",
    "\n",
    "challenge = 'thirty days of python'\n",
    "print(challenge.isupper()) #  False\n",
    "challenge = 'THIRTY DAYS OF PYTHON'\n",
    "print(challenge.isupper()) # True\n"
   ]
  },
  {
   "cell_type": "code",
   "execution_count": 58,
   "id": "7363297b-e1cb-46c2-8696-5577b6e5ff13",
   "metadata": {},
   "outputs": [
    {
     "name": "stdout",
     "output_type": "stream",
     "text": [
      "HTMLhi,CSShi,JavaScripthi,React\n"
     ]
    }
   ],
   "source": [
    "#19. join(): Returns a concatenated string\n",
    "\n",
    "web_tech = ['HTML', 'CSS', 'JavaScript', 'React']\n",
    "result = 'hi,'.join(web_tech)\n",
    "print(result) \n"
   ]
  },
  {
   "cell_type": "code",
   "execution_count": 59,
   "id": "b7853bf1-f0be-43f8-8ea4-e96fd1c81599",
   "metadata": {},
   "outputs": [
    {
     "name": "stdout",
     "output_type": "stream",
     "text": [
      "True\n",
      "False\n"
     ]
    }
   ],
   "source": [
    "#20. isnumeric():Checks numeric characters\n",
    "\n",
    "num = '10'\n",
    "print(num.isnumeric())      # True\n",
    "v = 'ten'\n",
    "print(v.isnumeric())      #false"
   ]
  },
  {
   "cell_type": "code",
   "execution_count": 60,
   "id": "d174ad98-0b51-4fb8-8a7a-8a0311faecc8",
   "metadata": {},
   "outputs": [
    {
     "name": "stdout",
     "output_type": "stream",
     "text": [
      "banana\n"
     ]
    }
   ],
   "source": [
    "#21. strip(): Removes both leading and trailing characters\n",
    "txt = \",,,,,rrttgg.....banana....rrr\"\n",
    "x = txt.strip(\",.grt\")\n",
    "print(x)"
   ]
  },
  {
   "cell_type": "code",
   "execution_count": 61,
   "id": "7529b47f-83b1-4b95-a42f-20681c27bc83",
   "metadata": {},
   "outputs": [
    {
     "name": "stdout",
     "output_type": "stream",
     "text": [
      "H e l l o\n"
     ]
    }
   ],
   "source": [
    "#22. expandtabs(): Replaces tab character with spaces, default tab size is 8. It takes tab size argument\n",
    "txt = \"H\\te\\tl\\tl\\to\"\n",
    "print(txt.expandtabs(2)) # Output: \"H e l l o\""
   ]
  },
  {
   "cell_type": "code",
   "execution_count": null,
   "id": "297a7f1e-4bc1-4211-bdde-02a730e0349f",
   "metadata": {},
   "outputs": [],
   "source": []
  }
 ],
 "metadata": {
  "kernelspec": {
   "display_name": "Python [conda env:base] *",
   "language": "python",
   "name": "conda-base-py"
  },
  "language_info": {
   "codemirror_mode": {
    "name": "ipython",
    "version": 3
   },
   "file_extension": ".py",
   "mimetype": "text/x-python",
   "name": "python",
   "nbconvert_exporter": "python",
   "pygments_lexer": "ipython3",
   "version": "3.12.7"
  }
 },
 "nbformat": 4,
 "nbformat_minor": 5
}
