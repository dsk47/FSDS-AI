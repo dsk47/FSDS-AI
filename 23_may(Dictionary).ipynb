{
 "cells": [
  {
   "cell_type": "code",
   "execution_count": null,
   "id": "e8a94ffd-7df4-47af-a5aa-02848548b09d",
   "metadata": {},
   "outputs": [],
   "source": [
    "'''\n",
    "1.Dictionary is a mutable datatype in python\n",
    "2.A python dictionary is a collection of key and value pairs separated by a colon(:) and enclosed in curly braces{}.\n",
    "3.Keys must be unique in a dictionary, duplicate values are allowed.\n",
    "'''"
   ]
  },
  {
   "cell_type": "code",
   "execution_count": 35,
   "id": "495039ed-8d2e-403a-ade0-cbc74c80b7c2",
   "metadata": {},
   "outputs": [
    {
     "data": {
      "text/plain": [
       "dict"
      ]
     },
     "execution_count": 35,
     "metadata": {},
     "output_type": "execute_result"
    }
   ],
   "source": [
    "d = {}\n",
    "type(d)"
   ]
  },
  {
   "cell_type": "code",
   "execution_count": 36,
   "id": "2f82bdd0-fa9a-49d1-a505-ea7d3aa09ddc",
   "metadata": {},
   "outputs": [
    {
     "data": {
      "text/plain": [
       "{1: 'one', 2: 'two', 3: 'three', 4: 'four'}"
      ]
     },
     "execution_count": 36,
     "metadata": {},
     "output_type": "execute_result"
    }
   ],
   "source": [
    "d1 = {1:'one', 2:'two', 3:'three', 4:'four'}  #dictionary with integer keys\n",
    "d1"
   ]
  },
  {
   "cell_type": "code",
   "execution_count": 37,
   "id": "0cb71088-ca4c-481a-9cf8-417279c01f64",
   "metadata": {},
   "outputs": [
    {
     "data": {
      "text/plain": [
       "{1: 'one', 2: 'two', 3: 'three'}"
      ]
     },
     "execution_count": 37,
     "metadata": {},
     "output_type": "execute_result"
    }
   ],
   "source": [
    "d1 = dict({1:'one', 2:'two', 3:'three'})  #create dictionary using dict()\n",
    "d1"
   ]
  },
  {
   "cell_type": "code",
   "execution_count": 38,
   "id": "ad76499f-c68a-4ae8-badf-ee2210f6a600",
   "metadata": {},
   "outputs": [
    {
     "data": {
      "text/plain": [
       "{'A': 'one', 'B': 'two', 'C': 'three'}"
      ]
     },
     "execution_count": 38,
     "metadata": {},
     "output_type": "execute_result"
    }
   ],
   "source": [
    "d1 = {'A':'one', 'B':'two', 'C':'three'} #dictionary with character keys\n",
    "d1"
   ]
  },
  {
   "cell_type": "code",
   "execution_count": 39,
   "id": "c4339a06-bf6e-4e7c-bba4-ac10395ea3c6",
   "metadata": {},
   "outputs": [
    {
     "data": {
      "text/plain": [
       "dict_keys(['A', 'B', 'C'])"
      ]
     },
     "execution_count": 39,
     "metadata": {},
     "output_type": "execute_result"
    }
   ],
   "source": [
    "d1.keys()"
   ]
  },
  {
   "cell_type": "code",
   "execution_count": 40,
   "id": "016fd7b1-7975-4a56-afa9-0a4493eaecb4",
   "metadata": {},
   "outputs": [
    {
     "data": {
      "text/plain": [
       "dict_values(['one', 'two', 'three'])"
      ]
     },
     "execution_count": 40,
     "metadata": {},
     "output_type": "execute_result"
    }
   ],
   "source": [
    "d1.values()"
   ]
  },
  {
   "cell_type": "code",
   "execution_count": 41,
   "id": "a972b4b7-12ba-4f5e-9f8d-73350b796e11",
   "metadata": {},
   "outputs": [
    {
     "data": {
      "text/plain": [
       "dict_items([('A', 'one'), ('B', 'two'), ('C', 'three')])"
      ]
     },
     "execution_count": 41,
     "metadata": {},
     "output_type": "execute_result"
    }
   ],
   "source": [
    "d1.items()"
   ]
  },
  {
   "cell_type": "code",
   "execution_count": 42,
   "id": "e0e7b00e-efa1-4312-8465-792fb6db2d84",
   "metadata": {},
   "outputs": [
    {
     "data": {
      "text/plain": [
       "{1: 'one',\n",
       " 2: 'two',\n",
       " 'A': {'name': 'keerthana', 'age': 20},\n",
       " 'B': ('cat', 'dog', 1, 2),\n",
       " 'C': ['abc', 'def', 34, 12]}"
      ]
     },
     "execution_count": 42,
     "metadata": {},
     "output_type": "execute_result"
    }
   ],
   "source": [
    "d2 = {1:'one',2:'two','A':{'name':'keerthana','age':20},'B': ('cat','dog',1,2),'C':['abc','def',34,12]}\n",
    "d2"
   ]
  },
  {
   "cell_type": "code",
   "execution_count": 43,
   "id": "3bd25803-f1b2-4a74-8667-afd56ab6df63",
   "metadata": {},
   "outputs": [
    {
     "data": {
      "text/plain": [
       "{'d': [10, 20, 30], 'c': [10, 20, 30], 'a': [10, 20, 30], 'b': [10, 20, 30]}"
      ]
     },
     "execution_count": 43,
     "metadata": {},
     "output_type": "execute_result"
    }
   ],
   "source": [
    "keys = {'a','b','c','d'}\n",
    "value = [10,20,30]\n",
    "d3 = dict.fromkeys(keys,value)\n",
    "d3"
   ]
  },
  {
   "cell_type": "code",
   "execution_count": 44,
   "id": "52b937a7-7a9c-4707-81c0-a4f858423319",
   "metadata": {},
   "outputs": [
    {
     "data": {
      "text/plain": [
       "{'d': [10, 20, 30, 40],\n",
       " 'c': [10, 20, 30, 40],\n",
       " 'a': [10, 20, 30, 40],\n",
       " 'b': [10, 20, 30, 40]}"
      ]
     },
     "execution_count": 44,
     "metadata": {},
     "output_type": "execute_result"
    }
   ],
   "source": [
    "value.append(40)\n",
    "d3"
   ]
  },
  {
   "cell_type": "code",
   "execution_count": 45,
   "id": "376160cf-79a7-4e12-859a-d1ad5d8f737c",
   "metadata": {},
   "outputs": [
    {
     "data": {
      "text/plain": [
       "'one'"
      ]
     },
     "execution_count": 45,
     "metadata": {},
     "output_type": "execute_result"
    }
   ],
   "source": [
    "#accessing\n",
    "d2[1]"
   ]
  },
  {
   "cell_type": "code",
   "execution_count": 46,
   "id": "e08c68c4-cc85-4cad-8788-7a1494191fa1",
   "metadata": {},
   "outputs": [
    {
     "data": {
      "text/plain": [
       "{'name': 'keerthana', 'age': 20}"
      ]
     },
     "execution_count": 46,
     "metadata": {},
     "output_type": "execute_result"
    }
   ],
   "source": [
    "d2.get('A') #accessing using key"
   ]
  },
  {
   "cell_type": "code",
   "execution_count": 47,
   "id": "558bec00-d900-489f-a595-ad30ae881a73",
   "metadata": {},
   "outputs": [
    {
     "data": {
      "text/plain": [
       "{1: 'one',\n",
       " 2: 'five',\n",
       " 'A': {'name': 'keerthana', 'age': 20},\n",
       " 'B': ('cat', 'dog', 1, 2),\n",
       " 'C': ['abc', 'def', 34, 12]}"
      ]
     },
     "execution_count": 47,
     "metadata": {},
     "output_type": "execute_result"
    }
   ],
   "source": [
    "#add,remove and change items\n",
    "d2[2] = 'five'\n",
    "d2"
   ]
  },
  {
   "cell_type": "code",
   "execution_count": 48,
   "id": "3b627795-e6e5-4ed8-b589-4f93b2194232",
   "metadata": {},
   "outputs": [
    {
     "data": {
      "text/plain": [
       "{1: 'one',\n",
       " 2: 'five',\n",
       " 'A': {'name': 'keerthana', 'age': 20},\n",
       " 'B': ('cat', 'dog', 1, 2),\n",
       " 'C': ['abc', 'def', 34, 12],\n",
       " 'D': 'hello'}"
      ]
     },
     "execution_count": 48,
     "metadata": {},
     "output_type": "execute_result"
    }
   ],
   "source": [
    "#adding items\n",
    "d2['D']='hello'\n",
    "d2"
   ]
  },
  {
   "cell_type": "code",
   "execution_count": 49,
   "id": "1497680a-e10b-4ed5-90a5-d7e65245792b",
   "metadata": {},
   "outputs": [
    {
     "data": {
      "text/plain": [
       "{1: 'one',\n",
       " 2: 'five',\n",
       " 'A': {'name': 'keerthana', 'age': 20},\n",
       " 'B': ('cat', 'dog', 1, 2),\n",
       " 'C': ['abc', 'def', 34, 12]}"
      ]
     },
     "execution_count": 49,
     "metadata": {},
     "output_type": "execute_result"
    }
   ],
   "source": [
    "#remove items\n",
    "d2.pop('D')\n",
    "d2"
   ]
  },
  {
   "cell_type": "code",
   "execution_count": 50,
   "id": "a0522123-26ce-40b0-92f7-1adfb614f593",
   "metadata": {},
   "outputs": [
    {
     "data": {
      "text/plain": [
       "{1: 'one',\n",
       " 2: 'five',\n",
       " 'A': {'name': 'keerthana', 'age': 20},\n",
       " 'B': ('cat', 'dog', 1, 2)}"
      ]
     },
     "execution_count": 50,
     "metadata": {},
     "output_type": "execute_result"
    }
   ],
   "source": [
    "d2.popitem() # A random item is removed\n",
    "d2"
   ]
  },
  {
   "cell_type": "code",
   "execution_count": 51,
   "id": "77da381e-bcfd-45fb-8ed2-6a552caceecb",
   "metadata": {},
   "outputs": [
    {
     "data": {
      "text/plain": [
       "{1: 'one', 'A': {'name': 'keerthana', 'age': 20}, 'B': ('cat', 'dog', 1, 2)}"
      ]
     },
     "execution_count": 51,
     "metadata": {},
     "output_type": "execute_result"
    }
   ],
   "source": [
    "del[d2[2]] #removing item using del keyword\n",
    "d2"
   ]
  },
  {
   "cell_type": "code",
   "execution_count": 52,
   "id": "056b0696-3caa-42f9-840c-ee65efebb9f5",
   "metadata": {},
   "outputs": [
    {
     "data": {
      "text/plain": [
       "{}"
      ]
     },
     "execution_count": 52,
     "metadata": {},
     "output_type": "execute_result"
    }
   ],
   "source": [
    "d2.clear() #delete all items of the dictionary using clear method\n",
    "d2"
   ]
  },
  {
   "cell_type": "code",
   "execution_count": 53,
   "id": "bda72ee6-dfd6-4b3c-9b63-1268461b66f3",
   "metadata": {},
   "outputs": [
    {
     "ename": "NameError",
     "evalue": "name 'd2' is not defined",
     "output_type": "error",
     "traceback": [
      "\u001b[1;31m---------------------------------------------------------------------------\u001b[0m",
      "\u001b[1;31mNameError\u001b[0m                                 Traceback (most recent call last)",
      "Cell \u001b[1;32mIn[53], line 2\u001b[0m\n\u001b[0;32m      1\u001b[0m \u001b[38;5;28;01mdel\u001b[39;00m d2\n\u001b[1;32m----> 2\u001b[0m d2\n",
      "\u001b[1;31mNameError\u001b[0m: name 'd2' is not defined"
     ]
    }
   ],
   "source": [
    "del d2 #delete the dictionary object(d2)\n",
    "d2"
   ]
  },
  {
   "cell_type": "code",
   "execution_count": 60,
   "id": "f147c210-bab7-4aa2-8c45-2dac70e773e3",
   "metadata": {},
   "outputs": [
    {
     "data": {
      "text/plain": [
       "{'name': 'sankeerthana', 'age': 20, 'dob': 2005, 'rollno': 47}"
      ]
     },
     "execution_count": 60,
     "metadata": {},
     "output_type": "execute_result"
    }
   ],
   "source": [
    "#copy dictionary\n",
    "mydict = {'name':'sankeerthana','age':20,'dob':2005,'rollno':47}\n",
    "mydict"
   ]
  },
  {
   "cell_type": "code",
   "execution_count": 61,
   "id": "23567c44-42f7-45d9-ac86-13faaa53ab36",
   "metadata": {},
   "outputs": [
    {
     "data": {
      "text/plain": [
       "{'name': 'sankeerthana', 'age': 20, 'dob': 2005, 'rollno': 47}"
      ]
     },
     "execution_count": 61,
     "metadata": {},
     "output_type": "execute_result"
    }
   ],
   "source": [
    "mydict1 = mydict.copy()\n",
    "mydict1"
   ]
  },
  {
   "cell_type": "code",
   "execution_count": 62,
   "id": "3301ccc8-a6ff-4219-b5f6-9a6f272bbd63",
   "metadata": {},
   "outputs": [
    {
     "data": {
      "text/plain": [
       "{'name': 'sankeerthana', 'age': 20, 'dob': 2005, 'rollno': 77}"
      ]
     },
     "execution_count": 62,
     "metadata": {},
     "output_type": "execute_result"
    }
   ],
   "source": [
    "mydict['rollno'] = 77\n",
    "mydict"
   ]
  },
  {
   "cell_type": "code",
   "execution_count": 63,
   "id": "215ce2f1-d58d-4095-aece-e29cafed9a0e",
   "metadata": {},
   "outputs": [
    {
     "data": {
      "text/plain": [
       "{'name': 'sankeerthana', 'age': 20, 'dob': 2005, 'rollno': 47}"
      ]
     },
     "execution_count": 63,
     "metadata": {},
     "output_type": "execute_result"
    }
   ],
   "source": [
    "mydict1"
   ]
  },
  {
   "cell_type": "code",
   "execution_count": 72,
   "id": "0e9f50d1-6567-4ce9-bd5a-4a9ed77df0e0",
   "metadata": {},
   "outputs": [
    {
     "name": "stdout",
     "output_type": "stream",
     "text": [
      "name : sankeerthana\n",
      "age : 20\n",
      "dob : 2005\n",
      "rollno : 77\n"
     ]
    }
   ],
   "source": [
    "for i in mydict:  #loop through a dictionary\n",
    "    print(i,':',mydict[i])"
   ]
  },
  {
   "cell_type": "code",
   "execution_count": 73,
   "id": "27527467-1b1f-4b50-be67-94e3231091c1",
   "metadata": {},
   "outputs": [
    {
     "name": "stdout",
     "output_type": "stream",
     "text": [
      "sankeerthana\n",
      "20\n",
      "2005\n",
      "77\n"
     ]
    }
   ],
   "source": [
    "for i in mydict:\n",
    "    print(mydict[i])"
   ]
  },
  {
   "cell_type": "code",
   "execution_count": 74,
   "id": "bc744ae0-29aa-4877-a332-7be7a10fcd79",
   "metadata": {},
   "outputs": [
    {
     "data": {
      "text/plain": [
       "True"
      ]
     },
     "execution_count": 74,
     "metadata": {},
     "output_type": "execute_result"
    }
   ],
   "source": [
    "#dictionary membership\n",
    "'name' in mydict"
   ]
  },
  {
   "cell_type": "code",
   "execution_count": 75,
   "id": "5d0ba7b4-e266-4b61-ae86-962bc974758f",
   "metadata": {},
   "outputs": [
    {
     "data": {
      "text/plain": [
       "False"
      ]
     },
     "execution_count": 75,
     "metadata": {},
     "output_type": "execute_result"
    }
   ],
   "source": [
    "'birth' in mydict"
   ]
  },
  {
   "cell_type": "code",
   "execution_count": null,
   "id": "0fef10ac-f2d6-413f-b19a-3122c0c27371",
   "metadata": {},
   "outputs": [],
   "source": [
    "'''All/Any \n",
    "all() method returns TRUE--if all keys of dictionary are true\n",
    "                     FALSE--if any key of dictionary is false\n",
    "any() method returns TRUE--if any key of dictionary is true.\n",
    "                     FALSE--else returns false.\n",
    "'''"
   ]
  },
  {
   "cell_type": "code",
   "execution_count": 76,
   "id": "7a98dbc2-52bc-4dbe-baaf-e78d9acad7e4",
   "metadata": {},
   "outputs": [
    {
     "data": {
      "text/plain": [
       "True"
      ]
     },
     "execution_count": 76,
     "metadata": {},
     "output_type": "execute_result"
    }
   ],
   "source": [
    "all(mydict)"
   ]
  },
  {
   "cell_type": "code",
   "execution_count": 77,
   "id": "74c3e841-6d59-49f7-a81f-c00976f21dda",
   "metadata": {},
   "outputs": [
    {
     "data": {
      "text/plain": [
       "True"
      ]
     },
     "execution_count": 77,
     "metadata": {},
     "output_type": "execute_result"
    }
   ],
   "source": [
    "any(mydict)"
   ]
  },
  {
   "cell_type": "code",
   "execution_count": null,
   "id": "69972b77-2bf7-4c99-9f4f-bb5ef617b755",
   "metadata": {},
   "outputs": [],
   "source": []
  }
 ],
 "metadata": {
  "kernelspec": {
   "display_name": "Python [conda env:base] *",
   "language": "python",
   "name": "conda-base-py"
  },
  "language_info": {
   "codemirror_mode": {
    "name": "ipython",
    "version": 3
   },
   "file_extension": ".py",
   "mimetype": "text/x-python",
   "name": "python",
   "nbconvert_exporter": "python",
   "pygments_lexer": "ipython3",
   "version": "3.12.7"
  }
 },
 "nbformat": 4,
 "nbformat_minor": 5
}
