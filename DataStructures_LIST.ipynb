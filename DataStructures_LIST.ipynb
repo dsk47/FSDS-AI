{
 "cells": [
  {
   "cell_type": "markdown",
   "id": "31f70596-a110-47b6-9de6-b36e560c00e7",
   "metadata": {},
   "source": [
    "#Data Structures"
   ]
  },
  {
   "cell_type": "markdown",
   "id": "608b9796-8979-4ff8-b988-0a0ef9c22347",
   "metadata": {},
   "source": [
    "#LIST"
   ]
  },
  {
   "cell_type": "code",
   "execution_count": 46,
   "id": "661a7794-714f-4b47-96e3-552cbb3b5526",
   "metadata": {},
   "outputs": [
    {
     "data": {
      "text/plain": [
       "[]"
      ]
     },
     "execution_count": 46,
     "metadata": {},
     "output_type": "execute_result"
    }
   ],
   "source": [
    "l = []  \n",
    "l"
   ]
  },
  {
   "cell_type": "code",
   "execution_count": 47,
   "id": "6b117e23-ca97-4c11-90e4-dd4e19943750",
   "metadata": {},
   "outputs": [
    {
     "data": {
      "text/plain": [
       "list"
      ]
     },
     "execution_count": 47,
     "metadata": {},
     "output_type": "execute_result"
    }
   ],
   "source": [
    "type(l)"
   ]
  },
  {
   "cell_type": "code",
   "execution_count": 48,
   "id": "46b941e7-b223-400c-a0b7-8dde9701bfa0",
   "metadata": {},
   "outputs": [
    {
     "name": "stdout",
     "output_type": "stream",
     "text": [
      "0\n"
     ]
    }
   ],
   "source": [
    "print(len(l))"
   ]
  },
  {
   "cell_type": "code",
   "execution_count": 49,
   "id": "95d3386f-6836-42d2-bbff-179325a82632",
   "metadata": {},
   "outputs": [],
   "source": [
    "l.append(10)\n",
    "l.append(20)\n",
    "l.append(30)\n",
    "l.append(40)\n",
    "l.append(50)"
   ]
  },
  {
   "cell_type": "code",
   "execution_count": 50,
   "id": "bd33c037-59e4-4aa8-9f2f-751a09d8f9ae",
   "metadata": {},
   "outputs": [
    {
     "data": {
      "text/plain": [
       "[10, 20, 30, 40, 50]"
      ]
     },
     "execution_count": 50,
     "metadata": {},
     "output_type": "execute_result"
    }
   ],
   "source": [
    "l"
   ]
  },
  {
   "cell_type": "code",
   "execution_count": 51,
   "id": "7d0732d5-a7f6-49ae-ba1b-8663af4ce74b",
   "metadata": {},
   "outputs": [
    {
     "ename": "TypeError",
     "evalue": "list.append() takes exactly one argument (5 given)",
     "output_type": "error",
     "traceback": [
      "\u001b[1;31m---------------------------------------------------------------------------\u001b[0m",
      "\u001b[1;31mTypeError\u001b[0m                                 Traceback (most recent call last)",
      "Cell \u001b[1;32mIn[51], line 1\u001b[0m\n\u001b[1;32m----> 1\u001b[0m l\u001b[38;5;241m.\u001b[39mappend(\u001b[38;5;241m10\u001b[39m,\u001b[38;5;241m20\u001b[39m,\u001b[38;5;241m30\u001b[39m,\u001b[38;5;241m40\u001b[39m,\u001b[38;5;241m50\u001b[39m)\n",
      "\u001b[1;31mTypeError\u001b[0m: list.append() takes exactly one argument (5 given)"
     ]
    }
   ],
   "source": [
    "l.append(10,20,30,40,50)"
   ]
  },
  {
   "cell_type": "code",
   "execution_count": 52,
   "id": "3b8a7f61-81f5-4c89-8d35-5b47ee8cd9e8",
   "metadata": {},
   "outputs": [],
   "source": [
    "l1 = []\n",
    "l1.append('nit')\n",
    "l1.append(True),\n",
    "l1.append(2.3),\n",
    "l1.append(1+2j)\n",
    "l1.append([1,2,3])"
   ]
  },
  {
   "cell_type": "code",
   "execution_count": 53,
   "id": "db94cc0d-c87d-4bd7-bb13-22ceca2d809b",
   "metadata": {},
   "outputs": [
    {
     "data": {
      "text/plain": [
       "['nit', True, 2.3, (1+2j), [1, 2, 3]]"
      ]
     },
     "execution_count": 53,
     "metadata": {},
     "output_type": "execute_result"
    }
   ],
   "source": [
    "l1"
   ]
  },
  {
   "cell_type": "code",
   "execution_count": 54,
   "id": "da2a2335-a5f6-4493-b130-ac7f1c6ec3ef",
   "metadata": {},
   "outputs": [],
   "source": [
    "l1.append('mit')"
   ]
  },
  {
   "cell_type": "code",
   "execution_count": 55,
   "id": "331fd6fc-3901-4655-9373-15ff2aa36198",
   "metadata": {},
   "outputs": [
    {
     "data": {
      "text/plain": [
       "['nit', True, 2.3, (1+2j), [1, 2, 3], 'mit']"
      ]
     },
     "execution_count": 55,
     "metadata": {},
     "output_type": "execute_result"
    }
   ],
   "source": [
    "l1"
   ]
  },
  {
   "cell_type": "code",
   "execution_count": 56,
   "id": "314ecaf7-ff73-4adc-a2ba-bc1625e80c07",
   "metadata": {},
   "outputs": [
    {
     "data": {
      "text/plain": [
       "list"
      ]
     },
     "execution_count": 56,
     "metadata": {},
     "output_type": "execute_result"
    }
   ],
   "source": [
    "type(l1)"
   ]
  },
  {
   "cell_type": "code",
   "execution_count": 57,
   "id": "6be6f02f-4c75-477f-ae82-3f3cd9c9af84",
   "metadata": {},
   "outputs": [
    {
     "name": "stdout",
     "output_type": "stream",
     "text": [
      "nit\n",
      "True\n",
      "2.3\n",
      "(1+2j)\n",
      "[1, 2, 3]\n",
      "mit\n"
     ]
    }
   ],
   "source": [
    "for i in l1:\n",
    "    print(i)"
   ]
  },
  {
   "cell_type": "code",
   "execution_count": 58,
   "id": "f8baadbc-1fbc-4328-a9f7-5e4e8d7a8994",
   "metadata": {},
   "outputs": [
    {
     "name": "stdout",
     "output_type": "stream",
     "text": [
      "(0, 'nit')\n",
      "(1, True)\n",
      "(2, 2.3)\n",
      "(3, (1+2j))\n",
      "(4, [1, 2, 3])\n",
      "(5, 'mit')\n"
     ]
    }
   ],
   "source": [
    "for i in enumerate(l1):\n",
    "    print(i)"
   ]
  },
  {
   "cell_type": "markdown",
   "id": "b9b4b668-9847-4749-9efb-150269f0dd72",
   "metadata": {},
   "source": [
    "#LIST:\n",
    "1.list is growable\n",
    "2.list defines with []\n",
    "3.duplicates are allowed\n",
    "4.multiple datatypes can be defined\n",
    "5.list is mutable"
   ]
  },
  {
   "cell_type": "markdown",
   "id": "74764d6f-fcb5-42a2-9169-d40611df7407",
   "metadata": {},
   "source": [
    "#python index begins with 0\n",
    "indexing is divided into three parts\n",
    "forward indexing--front to back\n",
    "backward indexing--back to front\n",
    "step indexing---every step count jumps"
   ]
  },
  {
   "cell_type": "code",
   "execution_count": 59,
   "id": "da1aa7dd-8a1c-4f2d-a91c-50f27e771bff",
   "metadata": {},
   "outputs": [
    {
     "data": {
      "text/plain": [
       "[10, 20, 30, 40, 50]"
      ]
     },
     "execution_count": 59,
     "metadata": {},
     "output_type": "execute_result"
    }
   ],
   "source": [
    "l[:]"
   ]
  },
  {
   "cell_type": "code",
   "execution_count": 60,
   "id": "1272344a-2d8a-4f90-a57f-fb84fb221327",
   "metadata": {},
   "outputs": [
    {
     "data": {
      "text/plain": [
       "10"
      ]
     },
     "execution_count": 60,
     "metadata": {},
     "output_type": "execute_result"
    }
   ],
   "source": [
    "l[0]"
   ]
  },
  {
   "cell_type": "code",
   "execution_count": 61,
   "id": "bcfde43a-ba6d-4cb7-8f78-f45ab40ed629",
   "metadata": {},
   "outputs": [
    {
     "data": {
      "text/plain": [
       "50"
      ]
     },
     "execution_count": 61,
     "metadata": {},
     "output_type": "execute_result"
    }
   ],
   "source": [
    "l[-1]"
   ]
  },
  {
   "cell_type": "code",
   "execution_count": 62,
   "id": "be49aa21-3a4b-4f39-bef0-08d9ae64b421",
   "metadata": {},
   "outputs": [
    {
     "ename": "IndexError",
     "evalue": "list index out of range",
     "output_type": "error",
     "traceback": [
      "\u001b[1;31m---------------------------------------------------------------------------\u001b[0m",
      "\u001b[1;31mIndexError\u001b[0m                                Traceback (most recent call last)",
      "Cell \u001b[1;32mIn[62], line 1\u001b[0m\n\u001b[1;32m----> 1\u001b[0m l[\u001b[38;5;241m10\u001b[39m]\n",
      "\u001b[1;31mIndexError\u001b[0m: list index out of range"
     ]
    }
   ],
   "source": [
    "l[10]"
   ]
  },
  {
   "cell_type": "code",
   "execution_count": 63,
   "id": "c9f3fa35-d6e5-46dc-be24-e33268fcb4e2",
   "metadata": {},
   "outputs": [],
   "source": [
    "#slicing---[:]\n",
    "#forward slicing\n",
    "#backward slicing\n",
    "#step slicing"
   ]
  },
  {
   "cell_type": "code",
   "execution_count": 64,
   "id": "df597472-41f6-4872-8c88-bcb4bf7cceba",
   "metadata": {},
   "outputs": [
    {
     "data": {
      "text/plain": [
       "[20, 30, 40]"
      ]
     },
     "execution_count": 64,
     "metadata": {},
     "output_type": "execute_result"
    }
   ],
   "source": [
    "l[1:4]"
   ]
  },
  {
   "cell_type": "code",
   "execution_count": 65,
   "id": "b6129b4c-4eff-4abd-aaf5-5b33694ea5b3",
   "metadata": {},
   "outputs": [
    {
     "data": {
      "text/plain": [
       "[10, 20, 30, 40]"
      ]
     },
     "execution_count": 65,
     "metadata": {},
     "output_type": "execute_result"
    }
   ],
   "source": [
    "l[0:4]"
   ]
  },
  {
   "cell_type": "code",
   "execution_count": 66,
   "id": "ab81eb58-ec60-4ae4-aed3-5275b081b6cb",
   "metadata": {},
   "outputs": [
    {
     "data": {
      "text/plain": [
       "[100, 20, 30, 40, 50]"
      ]
     },
     "execution_count": 66,
     "metadata": {},
     "output_type": "execute_result"
    }
   ],
   "source": [
    "l[0] = 100 #list is mutable\n",
    "l"
   ]
  },
  {
   "cell_type": "code",
   "execution_count": 67,
   "id": "9443f258-71fd-4936-87c8-9937c886a6e9",
   "metadata": {},
   "outputs": [
    {
     "data": {
      "text/plain": [
       "['nit', True, 2.3, (1+2j), [1, 2, 3], 'mit']"
      ]
     },
     "execution_count": 67,
     "metadata": {},
     "output_type": "execute_result"
    }
   ],
   "source": [
    "l2 = []\n",
    "l2 = l1.copy()\n",
    "l2"
   ]
  },
  {
   "cell_type": "code",
   "execution_count": 68,
   "id": "98699d97-5958-425e-b019-74140278c271",
   "metadata": {},
   "outputs": [
    {
     "name": "stdout",
     "output_type": "stream",
     "text": [
      "6\n"
     ]
    }
   ],
   "source": [
    "print(len(l2))"
   ]
  },
  {
   "cell_type": "code",
   "execution_count": 69,
   "id": "007d0d4e-5dc1-4433-bf70-cfdba6992701",
   "metadata": {},
   "outputs": [
    {
     "data": {
      "text/plain": [
       "2592984253568"
      ]
     },
     "execution_count": 69,
     "metadata": {},
     "output_type": "execute_result"
    }
   ],
   "source": [
    "id(l2)"
   ]
  },
  {
   "cell_type": "code",
   "execution_count": 70,
   "id": "da80d1b8-9a5a-4998-ad3b-21538ee7c9bb",
   "metadata": {},
   "outputs": [
    {
     "data": {
      "text/plain": [
       "1"
      ]
     },
     "execution_count": 70,
     "metadata": {},
     "output_type": "execute_result"
    }
   ],
   "source": [
    "l.count(100)"
   ]
  },
  {
   "cell_type": "code",
   "execution_count": 71,
   "id": "f4b41ca0-92cf-44ef-8698-6ac6c2fc7f1c",
   "metadata": {},
   "outputs": [
    {
     "data": {
      "text/plain": [
       "1"
      ]
     },
     "execution_count": 71,
     "metadata": {},
     "output_type": "execute_result"
    }
   ],
   "source": [
    "l2.count(True)"
   ]
  },
  {
   "cell_type": "code",
   "execution_count": 72,
   "id": "8d88d741-1a6b-4d15-af49-5bc9df5c395d",
   "metadata": {},
   "outputs": [
    {
     "data": {
      "text/plain": [
       "(1+2j)"
      ]
     },
     "execution_count": 72,
     "metadata": {},
     "output_type": "execute_result"
    }
   ],
   "source": [
    "l2[3] #forward indexing"
   ]
  },
  {
   "cell_type": "code",
   "execution_count": 73,
   "id": "013bd3b6-667e-437c-a070-dba497ee8d88",
   "metadata": {},
   "outputs": [
    {
     "data": {
      "text/plain": [
       "'mit'"
      ]
     },
     "execution_count": 73,
     "metadata": {},
     "output_type": "execute_result"
    }
   ],
   "source": [
    "l2[-1] #backward indexing"
   ]
  },
  {
   "cell_type": "code",
   "execution_count": 74,
   "id": "01db980b-d2b5-4ebe-ac83-f0d44872663f",
   "metadata": {},
   "outputs": [
    {
     "data": {
      "text/plain": [
       "['keerthana', True, 2.3, (1+2j), [1, 2, 3], 'mit']"
      ]
     },
     "execution_count": 74,
     "metadata": {},
     "output_type": "execute_result"
    }
   ],
   "source": [
    "l2[0] = 'keerthana' #list is mutable\n",
    "l2"
   ]
  },
  {
   "cell_type": "code",
   "execution_count": 75,
   "id": "334a6421-8389-4192-9bff-138cbc575a38",
   "metadata": {},
   "outputs": [
    {
     "data": {
      "text/plain": [
       "[]"
      ]
     },
     "execution_count": 75,
     "metadata": {},
     "output_type": "execute_result"
    }
   ],
   "source": [
    "l2.clear()\n",
    "l2"
   ]
  },
  {
   "cell_type": "code",
   "execution_count": 76,
   "id": "b9f9b0a5-8daf-4f5e-b436-529394aca27c",
   "metadata": {},
   "outputs": [
    {
     "data": {
      "text/plain": [
       "['nit', True, 2.3, (1+2j), [1, 2, 3]]"
      ]
     },
     "execution_count": 76,
     "metadata": {},
     "output_type": "execute_result"
    }
   ],
   "source": [
    "l1 = []\n",
    "l1.append('nit')\n",
    "l1.append(True),\n",
    "l1.append(2.3),\n",
    "l1.append(1+2j)\n",
    "l1.append([1,2,3])\n",
    "l1"
   ]
  },
  {
   "cell_type": "code",
   "execution_count": 77,
   "id": "13fae150-8e1e-4b44-a505-b8216383f155",
   "metadata": {},
   "outputs": [
    {
     "data": {
      "text/plain": [
       "[1, 2, 3]"
      ]
     },
     "execution_count": 77,
     "metadata": {},
     "output_type": "execute_result"
    }
   ],
   "source": [
    "l1.pop()"
   ]
  },
  {
   "cell_type": "code",
   "execution_count": 78,
   "id": "fca7a1cc-41d9-4357-85ff-5d78814e3dbe",
   "metadata": {},
   "outputs": [
    {
     "data": {
      "text/plain": [
       "['nit', True, 2.3, (1+2j)]"
      ]
     },
     "execution_count": 78,
     "metadata": {},
     "output_type": "execute_result"
    }
   ],
   "source": [
    "l1"
   ]
  },
  {
   "cell_type": "code",
   "execution_count": 79,
   "id": "1ddb1411-f296-4a9a-8388-7a54552bfacd",
   "metadata": {},
   "outputs": [
    {
     "data": {
      "text/plain": [
       "['nit', True, 2.3]"
      ]
     },
     "execution_count": 79,
     "metadata": {},
     "output_type": "execute_result"
    }
   ],
   "source": [
    "l1.remove(1+2j)\n",
    "l1"
   ]
  },
  {
   "cell_type": "code",
   "execution_count": 80,
   "id": "13a97711-57ac-4c2f-b9c0-0b26888788a4",
   "metadata": {},
   "outputs": [
    {
     "data": {
      "text/plain": [
       "['nit', True, 2.3]"
      ]
     },
     "execution_count": 80,
     "metadata": {},
     "output_type": "execute_result"
    }
   ],
   "source": [
    "l1"
   ]
  },
  {
   "cell_type": "code",
   "execution_count": 81,
   "id": "7f3f4328-8960-4acb-97de-453367c3a2eb",
   "metadata": {},
   "outputs": [
    {
     "data": {
      "text/plain": [
       "['nit', 8, 8.4, (5+2j)]"
      ]
     },
     "execution_count": 81,
     "metadata": {},
     "output_type": "execute_result"
    }
   ],
   "source": [
    "v = []\n",
    "v.append('nit')\n",
    "v.append(8)\n",
    "v.append(8.4)\n",
    "v.append(5+2j)\n",
    "v"
   ]
  },
  {
   "cell_type": "code",
   "execution_count": 82,
   "id": "eacccade-116c-4da4-a2d2-d5c7a2c06cb7",
   "metadata": {},
   "outputs": [
    {
     "data": {
      "text/plain": [
       "2"
      ]
     },
     "execution_count": 82,
     "metadata": {},
     "output_type": "execute_result"
    }
   ],
   "source": [
    "v.index(8.4)"
   ]
  },
  {
   "cell_type": "code",
   "execution_count": 83,
   "id": "b170bf9e-911c-45a4-b65a-7911fa5dc191",
   "metadata": {},
   "outputs": [
    {
     "data": {
      "text/plain": [
       "'nit'"
      ]
     },
     "execution_count": 83,
     "metadata": {},
     "output_type": "execute_result"
    }
   ],
   "source": [
    "v[0]"
   ]
  },
  {
   "cell_type": "code",
   "execution_count": 84,
   "id": "576b3d23-d624-4c29-8601-ed3ec96cb64d",
   "metadata": {},
   "outputs": [
    {
     "name": "stdout",
     "output_type": "stream",
     "text": [
      "n\n",
      "i\n",
      "t\n"
     ]
    }
   ],
   "source": [
    "print(v[0][0])\n",
    "print(v[0][1])\n",
    "print(v[0][2])"
   ]
  },
  {
   "cell_type": "code",
   "execution_count": 85,
   "id": "6a2e3977-080b-4bf6-9441-f5575b06b2fe",
   "metadata": {},
   "outputs": [
    {
     "name": "stdout",
     "output_type": "stream",
     "text": [
      "nit\n",
      "8\n",
      "8.4\n",
      "(5+2j)\n"
     ]
    }
   ],
   "source": [
    "for i in v:\n",
    "    print(i)"
   ]
  },
  {
   "cell_type": "code",
   "execution_count": 86,
   "id": "3936c207-ca5c-4eb7-a30b-cabe034c4455",
   "metadata": {},
   "outputs": [],
   "source": [
    "v.remove(8.4) #remove() uses its values of list "
   ]
  },
  {
   "cell_type": "code",
   "execution_count": 87,
   "id": "7bc46b9d-03f4-4367-8b82-7f2f32a467eb",
   "metadata": {},
   "outputs": [
    {
     "data": {
      "text/plain": [
       "['nit', 8, (5+2j)]"
      ]
     },
     "execution_count": 87,
     "metadata": {},
     "output_type": "execute_result"
    }
   ],
   "source": [
    "v"
   ]
  },
  {
   "cell_type": "code",
   "execution_count": 88,
   "id": "8285877a-9876-45ad-8519-8ca8bf5bf763",
   "metadata": {},
   "outputs": [
    {
     "data": {
      "text/plain": [
       "(5+2j)"
      ]
     },
     "execution_count": 88,
     "metadata": {},
     "output_type": "execute_result"
    }
   ],
   "source": [
    "v.pop()  #pop() uses index for removal of items in list"
   ]
  },
  {
   "cell_type": "code",
   "execution_count": 89,
   "id": "e17cb001-9db8-4c7e-9437-3f08c84f1584",
   "metadata": {},
   "outputs": [
    {
     "data": {
      "text/plain": [
       "['nit', 8]"
      ]
     },
     "execution_count": 89,
     "metadata": {},
     "output_type": "execute_result"
    }
   ],
   "source": [
    "v"
   ]
  },
  {
   "cell_type": "code",
   "execution_count": 90,
   "id": "46811666-199b-43b9-a2a5-c4310fb93669",
   "metadata": {},
   "outputs": [
    {
     "data": {
      "text/plain": [
       "[31, 'nit', 8]"
      ]
     },
     "execution_count": 90,
     "metadata": {},
     "output_type": "execute_result"
    }
   ],
   "source": [
    "v.insert(0,31)\n",
    "v"
   ]
  },
  {
   "cell_type": "code",
   "execution_count": 91,
   "id": "28039b78-0c72-4923-a71f-aba702bb14b5",
   "metadata": {},
   "outputs": [
    {
     "data": {
      "text/plain": [
       "[8, 'nit', 31]"
      ]
     },
     "execution_count": 91,
     "metadata": {},
     "output_type": "execute_result"
    }
   ],
   "source": [
    "v.reverse()\n",
    "v"
   ]
  },
  {
   "cell_type": "code",
   "execution_count": 93,
   "id": "b2a6b43d-1eef-4c20-b3fc-eee2dd6512c2",
   "metadata": {},
   "outputs": [
    {
     "name": "stdout",
     "output_type": "stream",
     "text": [
      "8\n",
      "nit\n",
      "31\n"
     ]
    }
   ],
   "source": [
    "for i in v:\n",
    "    print(i)"
   ]
  },
  {
   "cell_type": "code",
   "execution_count": 96,
   "id": "84faf3cb-abd0-46d1-8f87-3509415724f0",
   "metadata": {},
   "outputs": [
    {
     "data": {
      "text/plain": [
       "['nit', True, 2.3]"
      ]
     },
     "execution_count": 96,
     "metadata": {},
     "output_type": "execute_result"
    }
   ],
   "source": [
    "v.extend(l1)\n",
    "l1"
   ]
  },
  {
   "cell_type": "code",
   "execution_count": 98,
   "id": "3503a7ab-ee09-4aad-8883-2bcf250f5e87",
   "metadata": {},
   "outputs": [
    {
     "data": {
      "text/plain": [
       "[8, 'nit', 31, 'nit', True, 2.3]"
      ]
     },
     "execution_count": 98,
     "metadata": {},
     "output_type": "execute_result"
    }
   ],
   "source": [
    "v"
   ]
  },
  {
   "cell_type": "code",
   "execution_count": 102,
   "id": "5e42e027-6fb1-4a26-859e-0851e3dee53d",
   "metadata": {},
   "outputs": [
    {
     "data": {
      "text/plain": [
       "[20, 10, 90, 40, 60]"
      ]
     },
     "execution_count": 102,
     "metadata": {},
     "output_type": "execute_result"
    }
   ],
   "source": [
    "s = []\n",
    "s.append(20)\n",
    "s.append(10)\n",
    "s.append(90)\n",
    "s.append(40)\n",
    "s.append(60)\n",
    "s"
   ]
  },
  {
   "cell_type": "code",
   "execution_count": 103,
   "id": "4492978b-b636-4356-9c51-456a9ea4c9d4",
   "metadata": {},
   "outputs": [
    {
     "data": {
      "text/plain": [
       "[10, 20, 40, 60, 90]"
      ]
     },
     "execution_count": 103,
     "metadata": {},
     "output_type": "execute_result"
    }
   ],
   "source": [
    "s.sort()\n",
    "s"
   ]
  },
  {
   "cell_type": "code",
   "execution_count": 105,
   "id": "2e97012b-41a0-41a7-8d8e-9e823706846d",
   "metadata": {},
   "outputs": [
    {
     "data": {
      "text/plain": [
       "[10, 20, 40, 60, 90]"
      ]
     },
     "execution_count": 105,
     "metadata": {},
     "output_type": "execute_result"
    }
   ],
   "source": [
    "s.sort(reverse=False) #False---sort in ascending order\n",
    "s"
   ]
  },
  {
   "cell_type": "code",
   "execution_count": 106,
   "id": "fa0d5010-bfe5-48e8-9be4-3aca4c01637e",
   "metadata": {},
   "outputs": [
    {
     "data": {
      "text/plain": [
       "[90, 60, 40, 20, 10]"
      ]
     },
     "execution_count": 106,
     "metadata": {},
     "output_type": "execute_result"
    }
   ],
   "source": [
    "s.sort(reverse=True) #True---sort in descending order\n",
    "s"
   ]
  },
  {
   "cell_type": "code",
   "execution_count": null,
   "id": "e64f8008-1670-4e69-8349-d50fc35c7cd3",
   "metadata": {},
   "outputs": [],
   "source": [
    "#slicing-----\n",
    ":--print entire list\n",
    "2:---print the value from 2nd index till last\n",
    ":2---print the value till 2nd (n-1) = 2-1=>1\n",
    "if the value is at the rightside then only apply n-1 formula\n",
    "2:5---(print value from 2nd index to 4-1)#"
   ]
  },
  {
   "cell_type": "code",
   "execution_count": null,
   "id": "285e6572-ac02-4205-9555-57ed1962f988",
   "metadata": {},
   "outputs": [],
   "source": []
  }
 ],
 "metadata": {
  "kernelspec": {
   "display_name": "Python [conda env:base] *",
   "language": "python",
   "name": "conda-base-py"
  },
  "language_info": {
   "codemirror_mode": {
    "name": "ipython",
    "version": 3
   },
   "file_extension": ".py",
   "mimetype": "text/x-python",
   "name": "python",
   "nbconvert_exporter": "python",
   "pygments_lexer": "ipython3",
   "version": "3.12.7"
  }
 },
 "nbformat": 4,
 "nbformat_minor": 5
}
