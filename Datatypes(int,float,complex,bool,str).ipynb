{
 "cells": [
  {
   "cell_type": "markdown",
   "id": "a1124d36-1446-4d12-b3d4-d630a8076e6f",
   "metadata": {},
   "source": [
    "#int datatype-number without decimal point.\n",
    "can be represented in binary form-(base 2)-(0,1){use 0b to convert value into binary}\n",
    "and in octal form-(base 8)-(0,7){use 0o to convert value into octal}\n"
   ]
  },
  {
   "cell_type": "code",
   "execution_count": 13,
   "id": "cfe9877a-9fb7-478e-9ce1-72e7b8c0f84e",
   "metadata": {},
   "outputs": [
    {
     "name": "stdout",
     "output_type": "stream",
     "text": [
      "<class 'int'>\n"
     ]
    },
    {
     "data": {
      "text/plain": [
       "2258171966416"
      ]
     },
     "execution_count": 13,
     "metadata": {},
     "output_type": "execute_result"
    }
   ],
   "source": [
    "a=1111\n",
    "print(type(a))\n",
    "id(a)"
   ]
  },
  {
   "cell_type": "code",
   "execution_count": 14,
   "id": "bf06fab1-d7ab-4b12-8c96-e166b195249b",
   "metadata": {},
   "outputs": [
    {
     "data": {
      "text/plain": [
       "15"
      ]
     },
     "execution_count": 14,
     "metadata": {},
     "output_type": "execute_result"
    }
   ],
   "source": [
    "#binary form--(1*2^3+1*2^2+1*2^1+1*2^0)\n",
    "b = 0b1111\n",
    "b"
   ]
  },
  {
   "cell_type": "code",
   "execution_count": 15,
   "id": "6341e07f-ceb9-4958-b4cd-1d12def45a4d",
   "metadata": {},
   "outputs": [
    {
     "data": {
      "text/plain": [
       "'0b1111'"
      ]
     },
     "execution_count": 15,
     "metadata": {},
     "output_type": "execute_result"
    }
   ],
   "source": [
    "bin(15)"
   ]
  },
  {
   "cell_type": "code",
   "execution_count": 16,
   "id": "fe863ca3-8360-4dee-8863-4944341a90dc",
   "metadata": {},
   "outputs": [
    {
     "ename": "SyntaxError",
     "evalue": "invalid digit '2' in binary literal (4076542268.py, line 1)",
     "output_type": "error",
     "traceback": [
      "\u001b[1;36m  Cell \u001b[1;32mIn[16], line 1\u001b[1;36m\u001b[0m\n\u001b[1;33m    d = 0b22\u001b[0m\n\u001b[1;37m          ^\u001b[0m\n\u001b[1;31mSyntaxError\u001b[0m\u001b[1;31m:\u001b[0m invalid digit '2' in binary literal\n"
     ]
    }
   ],
   "source": [
    "d = 0b22"
   ]
  },
  {
   "cell_type": "code",
   "execution_count": 17,
   "id": "45d9bb3b-d924-4096-8e05-88d7f2bb6420",
   "metadata": {},
   "outputs": [
    {
     "data": {
      "text/plain": [
       "9"
      ]
     },
     "execution_count": 17,
     "metadata": {},
     "output_type": "execute_result"
    }
   ],
   "source": [
    "#octal form--(1*8^1)+(1*8^0)=8+1=9\n",
    "b2 = 0o11\n",
    "b2"
   ]
  },
  {
   "cell_type": "code",
   "execution_count": 19,
   "id": "628d88e7-8288-4981-b135-2606d6fa559c",
   "metadata": {},
   "outputs": [
    {
     "data": {
      "text/plain": [
       "18"
      ]
     },
     "execution_count": 19,
     "metadata": {},
     "output_type": "execute_result"
    }
   ],
   "source": [
    "z = 0o22\n",
    "z"
   ]
  },
  {
   "cell_type": "markdown",
   "id": "e0d4fbe5-f1d6-4ad9-9c78-1bd9c946411d",
   "metadata": {},
   "source": [
    "#float datatype--number with decimal point.\n",
    "cannot be declared as binary,octal.\n",
    "can be represented by exponential form such as (1.2e3)=1.2*10^3"
   ]
  },
  {
   "cell_type": "code",
   "execution_count": 20,
   "id": "3a5e4825-cb34-4b1a-bf0a-e94a7331b31d",
   "metadata": {},
   "outputs": [
    {
     "data": {
      "text/plain": [
       "67.9"
      ]
     },
     "execution_count": 20,
     "metadata": {},
     "output_type": "execute_result"
    }
   ],
   "source": [
    "b = 67.9\n",
    "b"
   ]
  },
  {
   "cell_type": "code",
   "execution_count": 21,
   "id": "c83c9213-c54b-4f35-84ce-d788aaa64df7",
   "metadata": {},
   "outputs": [
    {
     "data": {
      "text/plain": [
       "10000.0"
      ]
     },
     "execution_count": 21,
     "metadata": {},
     "output_type": "execute_result"
    }
   ],
   "source": [
    "f = 1e4\n",
    "f"
   ]
  },
  {
   "cell_type": "code",
   "execution_count": 22,
   "id": "d824426f-ed95-4193-82c1-07a2b5f3ae30",
   "metadata": {},
   "outputs": [
    {
     "data": {
      "text/plain": [
       "5000.0"
      ]
     },
     "execution_count": 22,
     "metadata": {},
     "output_type": "execute_result"
    }
   ],
   "source": [
    "f1 = 5.e3\n",
    "f1"
   ]
  },
  {
   "cell_type": "markdown",
   "id": "fb2fdb9a-0838-4f3c-a58e-f6521db9bb4d",
   "metadata": {},
   "source": [
    "#complex datatype-(a+bj) where a=real part and b=imaginary part\n",
    "--->Both real and imaginary part can be any type such as integer and float also exponential form(scientific notation such as 2e3,5.e3)\n",
    "--->but python does not accept binary,octal or hexadeciaml literals directly for the imaginary part. eg: c=3+0b1010j.\n",
    "--->binary,octal,hexadecimal can be for real part. eg: c=0b111+3j"
   ]
  },
  {
   "cell_type": "code",
   "execution_count": 1,
   "id": "d0c81882-e12f-42c9-947e-37eed5c2f3e4",
   "metadata": {},
   "outputs": [
    {
     "data": {
      "text/plain": [
       "(2.6+3j)"
      ]
     },
     "execution_count": 1,
     "metadata": {},
     "output_type": "execute_result"
    }
   ],
   "source": [
    "c = 2.6 + 3j\n",
    "c"
   ]
  },
  {
   "cell_type": "code",
   "execution_count": 3,
   "id": "7f928ba0-22e3-463b-ba97-3b5b18daee5c",
   "metadata": {},
   "outputs": [
    {
     "data": {
      "text/plain": [
       "(2.6+3.8j)"
      ]
     },
     "execution_count": 3,
     "metadata": {},
     "output_type": "execute_result"
    }
   ],
   "source": [
    "c = 2.6 + 3.8j\n",
    "c"
   ]
  },
  {
   "cell_type": "code",
   "execution_count": 4,
   "id": "893b4418-a96f-408d-ab60-248476da52a1",
   "metadata": {},
   "outputs": [
    {
     "data": {
      "text/plain": [
       "(7+2.6j)"
      ]
     },
     "execution_count": 4,
     "metadata": {},
     "output_type": "execute_result"
    }
   ],
   "source": [
    "c = 0b111 + 2.6j\n",
    "c"
   ]
  },
  {
   "cell_type": "code",
   "execution_count": 5,
   "id": "dd455100-e019-46f9-b1ae-7ca1c3ce0f3d",
   "metadata": {},
   "outputs": [
    {
     "name": "stdout",
     "output_type": "stream",
     "text": [
      "(3+4j)\n",
      "(3.5+4.2j)\n",
      "(100+0.5j)\n"
     ]
    }
   ],
   "source": [
    "x = 3 + 4j       # integer imaginary part\n",
    "y = 3.5 + 4.2j   # float imaginary part\n",
    "z = 1e2 + 5e-1j  # scientific notation for both parts\n",
    "print(x)\n",
    "print(y)\n",
    "print(z)"
   ]
  },
  {
   "cell_type": "code",
   "execution_count": 6,
   "id": "2718269d-f987-468f-bb6d-09de786bf187",
   "metadata": {},
   "outputs": [
    {
     "name": "stdout",
     "output_type": "stream",
     "text": [
      "(10+10j)\n"
     ]
    }
   ],
   "source": [
    "# Using binary to define the value:\n",
    "a = 0b1010  # binary for 10\n",
    "b = 0o12    # octal for 10\n",
    "\n",
    "z = a + b * 1j  # This is allowed because a and b are now decimal 10\n",
    "print(z)        # Output: (10+10j)\n"
   ]
  },
  {
   "cell_type": "code",
   "execution_count": 7,
   "id": "08d8d513-d0b7-4576-be2c-327e3b886a1f",
   "metadata": {},
   "outputs": [
    {
     "ename": "SyntaxError",
     "evalue": "invalid binary literal (3065296020.py, line 1)",
     "output_type": "error",
     "traceback": [
      "\u001b[1;36m  Cell \u001b[1;32mIn[7], line 1\u001b[1;36m\u001b[0m\n\u001b[1;33m    z = 3 + 0b1010j  # ❌ This will cause SyntaxError\u001b[0m\n\u001b[1;37m                 ^\u001b[0m\n\u001b[1;31mSyntaxError\u001b[0m\u001b[1;31m:\u001b[0m invalid binary literal\n"
     ]
    }
   ],
   "source": [
    "z = 3 + 0b1010j  # ❌ This will cause SyntaxError\n"
   ]
  },
  {
   "cell_type": "code",
   "execution_count": 8,
   "id": "e6a49a83-61c7-4211-9050-d0181d976bcc",
   "metadata": {},
   "outputs": [
    {
     "data": {
      "text/plain": [
       "complex"
      ]
     },
     "execution_count": 8,
     "metadata": {},
     "output_type": "execute_result"
    }
   ],
   "source": [
    "a=2+3j\n",
    "type(a)"
   ]
  },
  {
   "cell_type": "code",
   "execution_count": 9,
   "id": "000cc42e-b159-4445-b08d-0b1f2c8a1778",
   "metadata": {},
   "outputs": [
    {
     "data": {
      "text/plain": [
       "2.0"
      ]
     },
     "execution_count": 9,
     "metadata": {},
     "output_type": "execute_result"
    }
   ],
   "source": [
    "a.real"
   ]
  },
  {
   "cell_type": "code",
   "execution_count": 10,
   "id": "5519a599-af2d-40ac-87ac-3721edf6edd0",
   "metadata": {},
   "outputs": [
    {
     "data": {
      "text/plain": [
       "3.0"
      ]
     },
     "execution_count": 10,
     "metadata": {},
     "output_type": "execute_result"
    }
   ],
   "source": [
    "a.imag"
   ]
  },
  {
   "cell_type": "markdown",
   "id": "a2f6d967-7611-4f9f-b267-14f382489abe",
   "metadata": {},
   "source": [
    "#bool datatype--(TRUE and FALSE)\n",
    "TRUE = 1\n",
    "FALSE = 0"
   ]
  },
  {
   "cell_type": "code",
   "execution_count": 23,
   "id": "c2e7b750-3ffc-496a-be5b-e11138ad50f9",
   "metadata": {},
   "outputs": [
    {
     "data": {
      "text/plain": [
       "False"
      ]
     },
     "execution_count": 23,
     "metadata": {},
     "output_type": "execute_result"
    }
   ],
   "source": [
    "a = 10\n",
    "b = 20\n",
    "c = a>b\n",
    "c"
   ]
  },
  {
   "cell_type": "code",
   "execution_count": 25,
   "id": "cee0c747-0036-41ef-b70d-cdbf4f55fe6c",
   "metadata": {},
   "outputs": [
    {
     "data": {
      "text/plain": [
       "1.0"
      ]
     },
     "execution_count": 25,
     "metadata": {},
     "output_type": "execute_result"
    }
   ],
   "source": [
    "True/True\n"
   ]
  },
  {
   "cell_type": "markdown",
   "id": "3cd8dcf1-3ee7-44e7-8e46-a428eeb225eb",
   "metadata": {},
   "source": [
    "#str datatype--enclosed in single,double quotes for single line \n",
    "--enclosed in triple quotes for multiline"
   ]
  },
  {
   "cell_type": "code",
   "execution_count": 26,
   "id": "2f8ca729-3e2c-4eb2-bb60-e7dead0dfc61",
   "metadata": {},
   "outputs": [
    {
     "data": {
      "text/plain": [
       "'beginner for ds'"
      ]
     },
     "execution_count": 26,
     "metadata": {},
     "output_type": "execute_result"
    }
   ],
   "source": [
    "a = '''beginner for ds'''\n",
    "a"
   ]
  },
  {
   "cell_type": "code",
   "execution_count": 27,
   "id": "d7ee3fde-2538-4290-9e69-93d86e2e1b45",
   "metadata": {},
   "outputs": [
    {
     "data": {
      "text/plain": [
       "str"
      ]
     },
     "execution_count": 27,
     "metadata": {},
     "output_type": "execute_result"
    }
   ],
   "source": [
    "n = 'fish'\n",
    "type(n)"
   ]
  },
  {
   "cell_type": "code",
   "execution_count": null,
   "id": "4855e7d5-3373-40cc-9030-ce4ed165ef48",
   "metadata": {},
   "outputs": [],
   "source": []
  }
 ],
 "metadata": {
  "kernelspec": {
   "display_name": "Python [conda env:base] *",
   "language": "python",
   "name": "conda-base-py"
  },
  "language_info": {
   "codemirror_mode": {
    "name": "ipython",
    "version": 3
   },
   "file_extension": ".py",
   "mimetype": "text/x-python",
   "name": "python",
   "nbconvert_exporter": "python",
   "pygments_lexer": "ipython3",
   "version": "3.12.7"
  }
 },
 "nbformat": 4,
 "nbformat_minor": 5
}
